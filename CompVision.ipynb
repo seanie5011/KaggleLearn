{
 "cells": [
  {
   "cell_type": "markdown",
   "id": "8fd6ad6d",
   "metadata": {},
   "source": [
    "# Kaggle Learn: Computer Vision"
   ]
  },
  {
   "cell_type": "markdown",
   "id": "6425563b",
   "metadata": {},
   "source": [
    "In this notebook, we teach a computer to see! We will be introduced to the fundamental ideas of computer vision. Our goal is to learn how a neural network can \"understand\" a natural image well-enough to solve the same kinds of problems the human visual system can solve.\n",
    "\n",
    "The neural networks that are best at this task are called **convolutional neural networks** (Sometimes we say *convnet* or *CNN* instead.) **Convolution** is the mathematical operation that gives the layers of a convnet their unique structure.\n",
    "\n",
    "We will apply these ideas to the problem of image classification: given a picture, can we train a computer to tell us what it's a picture of? For example, apps that can identify a species of plant from a photograph are image classifiers!"
   ]
  },
  {
   "cell_type": "markdown",
   "id": "5f58a40f",
   "metadata": {},
   "source": [
    "## Table Of Contents"
   ]
  },
  {
   "cell_type": "markdown",
   "id": "8f4a267d",
   "metadata": {},
   "source": [
    "* **0.** [Dependancies and Settings](#0-Dependancies-and-Settings)  \n",
    "* **1.** [Useful Links](#1-Useful-Links)  \n",
    "* **2.** [The Convolutional Classifier](#2-The-Convolutional-Classifier)  \n",
    "  * **2.1.** [Training a Covnet Classifier](#2.1-Training-a-Covnet-Classifier)  \n",
    "  * **2.2.** [Linear Units in Keras](#2.2-Linear-Units-in-Keras)   "
   ]
  },
  {
   "cell_type": "markdown",
   "id": "7603a41a",
   "metadata": {},
   "source": [
    "## 0 Dependancies and Settings"
   ]
  },
  {
   "cell_type": "markdown",
   "id": "da7e5a5c",
   "metadata": {},
   "source": [
    "Installation:"
   ]
  },
  {
   "cell_type": "code",
   "execution_count": 1,
   "id": "6d2876d7",
   "metadata": {},
   "outputs": [],
   "source": [
    "# Installing or upgrading\n",
    "# Note: might have to restart kernel\n",
    "\n",
    "# Uncomment:\n",
    "# import sys\n",
    "\n",
    "# Installing:\n",
    "# !{sys.executable} -m pip install scikit-learn\n",
    "# Upgrading:\n",
    "# !{sys.executable} -m pip install --upgrade scipy==1.9.0 --user"
   ]
  },
  {
   "cell_type": "markdown",
   "id": "736c583a",
   "metadata": {},
   "source": [
    "Imports:"
   ]
  },
  {
   "cell_type": "code",
   "execution_count": 2,
   "id": "497ecebb",
   "metadata": {},
   "outputs": [],
   "source": [
    "import matplotlib.pyplot as plt\n",
    "import numpy as np\n",
    "import pandas as pd\n",
    "import tensorflow as tf\n",
    "import sklearn"
   ]
  },
  {
   "cell_type": "code",
   "execution_count": 3,
   "id": "fba04b5e",
   "metadata": {},
   "outputs": [
    {
     "name": "stdout",
     "output_type": "stream",
     "text": [
      "pandas version: 1.5.2\n",
      "numpy version: 1.23.0\n",
      "tensorflow version: 2.11.0\n",
      "sci-kit learn version: 1.2.0\n"
     ]
    }
   ],
   "source": [
    "print('pandas version:', pd.__version__)\n",
    "print('numpy version:', np.__version__)\n",
    "print('tensorflow version:', tf.__version__)\n",
    "print('sci-kit learn version:', sklearn.__version__)"
   ]
  },
  {
   "cell_type": "markdown",
   "id": "ac134a9f",
   "metadata": {},
   "source": [
    "Set the plotting style:"
   ]
  },
  {
   "cell_type": "code",
   "execution_count": 4,
   "id": "67d67f39",
   "metadata": {},
   "outputs": [
    {
     "name": "stdout",
     "output_type": "stream",
     "text": [
      "Using Scientific Style.\n"
     ]
    }
   ],
   "source": [
    "try:\n",
    "    scientific_style = [\n",
    "        '../../Random/PythonTutorialsForDataScience/data/science.mplstyle', \n",
    "        '../../Random/PythonTutorialsForDataScience/data/notebook.mplstyle', \n",
    "        '../../Random/PythonTutorialsForDataScience/data/grid.mplstyle'\n",
    "    ]\n",
    "\n",
    "    plt.style.use(scientific_style)\n",
    "    \n",
    "    print('Using Scientific Style.')\n",
    "except:\n",
    "    print('Missing Scientific Style, continuing with default.')"
   ]
  },
  {
   "cell_type": "markdown",
   "id": "0f63f1fd",
   "metadata": {},
   "source": [
    "Define the filepath where most of the data resides:"
   ]
  },
  {
   "cell_type": "code",
   "execution_count": 5,
   "id": "fd12a653",
   "metadata": {},
   "outputs": [],
   "source": [
    "path = r'C:\\Users\\seani\\Documents\\JupyterNotebooks\\Kaggle\\KaggleLearn\\Assets'"
   ]
  },
  {
   "cell_type": "markdown",
   "id": "43c4d8fd",
   "metadata": {},
   "source": [
    "Function used to get names of files in a directory:"
   ]
  },
  {
   "cell_type": "code",
   "execution_count": 6,
   "id": "2431e1e2",
   "metadata": {},
   "outputs": [],
   "source": [
    "import os\n",
    "\n",
    "def get_files(path):\n",
    "    '''\n",
    "    Inputs: a path string\n",
    "    Returns: a list of names of files in a directory\n",
    "    '''\n",
    "    \n",
    "    files = []\n",
    "    # search through each item in the directory\n",
    "    for file in os.listdir(path):\n",
    "        # check it is a file\n",
    "        if os.path.isfile(os.path.join(path, file)):\n",
    "            files.append(file)\n",
    "    \n",
    "    return files"
   ]
  },
  {
   "cell_type": "markdown",
   "id": "79f6843f",
   "metadata": {},
   "source": [
    "The seed used throughout for reproducable randomness:"
   ]
  },
  {
   "cell_type": "code",
   "execution_count": 7,
   "id": "fc43f5bf",
   "metadata": {},
   "outputs": [],
   "source": [
    "seed = 1"
   ]
  },
  {
   "cell_type": "markdown",
   "id": "e08d78b9",
   "metadata": {},
   "source": [
    "## 1 Useful Links"
   ]
  },
  {
   "cell_type": "markdown",
   "id": "69c169af",
   "metadata": {},
   "source": [
    "- Tensorflow main page: https://www.tensorflow.org/  \n",
    "- Tensorflow python API: https://www.tensorflow.org/api_docs/python/tf  "
   ]
  },
  {
   "cell_type": "markdown",
   "id": "4e67ca0c",
   "metadata": {},
   "source": [
    "## 2 The Convolutional Classifier"
   ]
  },
  {
   "cell_type": "markdown",
   "id": "755c7911",
   "metadata": {},
   "source": [
    "A convnet used for image classification consists of two parts: a convolutional **base** and a dense **head**. \n",
    "\n",
    "The **base** is used to extract the features from an image. It is formed primarily of layers performing the convolution operation, but often includes other kinds of layers as well. (You'll learn about these in the next lesson.)\n",
    "\n",
    "The **head** is used to determine the class of the image. It is formed primarily of dense layers, but might include other layers like dropout."
   ]
  },
  {
   "attachments": {
    "Figure1.jpg": {
     "image/jpeg": "[encoded data removed]"
    }
   },
   "cell_type": "markdown",
   "id": "6678aaac",
   "metadata": {},
   "source": [
    "![Figure1.jpg](attachment:Figure1.jpg)\n",
    "\n",
    "*Figure 1: The Image input is passed through the base and head where features are extracted and classified respectively. These classifications are then used to reach a prediction (output).*"
   ]
  },
  {
   "cell_type": "markdown",
   "id": "16a22bc3",
   "metadata": {},
   "source": [
    "What do we mean by visual **feature**? A feature could be a line, a color, a texture, a shape, a pattern - or some complicated combination.\n",
    "\n",
    "The whole process goes something like this:\n",
    "\n",
    "*Note: The features actually extracted look a bit different, but it gives the idea.*"
   ]
  },
  {
   "attachments": {
    "Figure2.jpg": {
     "image/jpeg": "[encoded data removed]"
    }
   },
   "cell_type": "markdown",
   "id": "c87bb5c9",
   "metadata": {},
   "source": [
    "![Figure2.jpg](attachment:Figure2.jpg)\n",
    "\n",
    "*Figure 2: After the image is passed through the base, it is split into its respective features. After passing through the head, these are classified and a prediction is made.*"
   ]
  },
  {
   "cell_type": "markdown",
   "id": "6ae05188",
   "metadata": {},
   "source": [
    "The goal of the network during training is to learn two things:\n",
    "\n",
    "1. Which features to extract from an image (base),\n",
    "2. Which class goes with what features (head).\n",
    "\n",
    "These days, convnets are rarely trained from scratch. More often, we reuse the base of a **pretrained model**. To the pretrained base we then attach an untrained head. In other words, we reuse the part of a network that has already learned to extract features (1.), and attach to it some fresh layers to learn classification (2.).\n",
    "\n",
    "Reusing a pretrained model is a technique known as **transfer learning**. It is so effective, that almost every image classifier these days will make use of it."
   ]
  },
  {
   "cell_type": "markdown",
   "id": "92882888",
   "metadata": {},
   "source": [
    "### 2.1 Training a Covnet Classifier"
   ]
  },
  {
   "cell_type": "markdown",
   "id": "b7e8f4c5",
   "metadata": {},
   "source": [
    "Throughout this notebook, we're going to be creating classifiers that attempt to solve the following problem: *is this a picture of a Car or of a Truck?* Our [dataset](https://www.kaggle.com/datasets/ryanholbrook/car-or-truck) is about 10,000 pictures of various automobiles, around half cars and half trucks.\n",
    "\n",
    "This following cell will import some libraries and set up our data pipeline. We have a training split called ``ds_train`` and a validation split called ``ds_valid``."
   ]
  },
  {
   "cell_type": "code",
   "execution_count": 8,
   "id": "d9e19bf6",
   "metadata": {},
   "outputs": [
    {
     "name": "stdout",
     "output_type": "stream",
     "text": [
      "Found 5117 files belonging to 2 classes.\n",
      "Found 5051 files belonging to 2 classes.\n"
     ]
    },
    {
     "data": {
      "text/plain": [
       "<PrefetchDataset element_spec=(TensorSpec(shape=(None, 128, 128, 3), dtype=tf.float32, name=None), TensorSpec(shape=(None, 1), dtype=tf.float32, name=None))>"
      ]
     },
     "execution_count": 8,
     "metadata": {},
     "output_type": "execute_result"
    }
   ],
   "source": [
    "# imports\n",
    "import os, warnings\n",
    "from matplotlib import gridspec\n",
    "from tensorflow.keras.preprocessing import image_dataset_from_directory\n",
    "\n",
    "warnings.filterwarnings(\"ignore\") # to clean up output cells\n",
    "\n",
    "# reproducability\n",
    "np.random.seed(seed)\n",
    "tf.random.set_seed(seed)\n",
    "\n",
    "# load training and validation sets\n",
    "ds_train_ = image_dataset_from_directory(\n",
    "    'Assets/car-or-truck/train',\n",
    "    labels='inferred',\n",
    "    label_mode='binary',\n",
    "    image_size=[128, 128],\n",
    "    interpolation='nearest',\n",
    "    batch_size=64,\n",
    "    shuffle=True,\n",
    ")\n",
    "ds_valid_ = image_dataset_from_directory(\n",
    "    'Assets/car-or-truck/valid',\n",
    "    labels='inferred',\n",
    "    label_mode='binary',\n",
    "    image_size=[128, 128],\n",
    "    interpolation='nearest',\n",
    "    batch_size=64,\n",
    "    shuffle=False,\n",
    ")\n",
    "\n",
    "# Data Pipeline\n",
    "def convert_to_float(image, label):\n",
    "    image = tf.image.convert_image_dtype(image, dtype=tf.float32)\n",
    "    return image, label\n",
    "\n",
    "AUTOTUNE = tf.data.experimental.AUTOTUNE\n",
    "ds_train = (\n",
    "    ds_train_\n",
    "    .map(convert_to_float)\n",
    "    .cache()\n",
    "    .prefetch(buffer_size=AUTOTUNE)\n",
    ")\n",
    "ds_valid = (\n",
    "    ds_valid_\n",
    "    .map(convert_to_float)\n",
    "    .cache()\n",
    "    .prefetch(buffer_size=AUTOTUNE)\n",
    ")\n",
    "\n",
    "ds_train"
   ]
  },
  {
   "cell_type": "markdown",
   "id": "ee5dde3d",
   "metadata": {},
   "source": [
    "The most commonly used dataset for pretraining is [ImageNet](https://www.image-net.org/download.php), a large dataset of many kind of natural images. Keras includes a variety models pretrained on ImageNet in its [``applications`` module](https://www.tensorflow.org/api_docs/python/tf/keras/applications).\n",
    "\n",
    "One of the bases we can use is from a model called **VGG16**. However, we would see that the VGG16 architecture is prone to overfitting this dataset. Over this notebook, we'll learn a number of ways we can improve upon this initial attempt.\n",
    "\n",
    "The first way we'll see is to use a base more appropriate to the dataset. The base this model comes from is called **InceptionV1** (also known as GoogLeNet). InceptionV1 was one of the early winners of the ImageNet competition. One of its successors, InceptionV4, is among the state of the art today.\n",
    "\n",
    "The InceptionV1 model pretrained on ImageNet is available in the [TensorFlow Hub repository](https://www.tensorflow.org/hub/), but we'll load it from a local copy:\n",
    "\n",
    "*Note: when doing transfer learning, it's generally not a good idea to retrain the entire base - at least not without some care. The reason is that the random weights in the head will initially create large gradient updates, which propogate back into the base layers and destroy much of the pretraining. Using techniques known as **fine tuning** it's possible to further train the base on new data, but this requires some care to do well.*"
   ]
  },
  {
   "cell_type": "code",
   "execution_count": 10,
   "id": "5f2e6f60",
   "metadata": {},
   "outputs": [
    {
     "name": "stdout",
     "output_type": "stream",
     "text": [
      "WARNING:tensorflow:SavedModel saved prior to TF 2.5 detected when loading Keras model. Please ensure that you are saving the model with model.save() or tf.keras.models.save_model(), *NOT* tf.saved_model.save(). To confirm, there should be a file named \"keras_metadata.pb\" in the SavedModel directory.\n",
      "WARNING:tensorflow:No training configuration found in save file, so the model was *not* compiled. Compile it manually.\n"
     ]
    },
    {
     "data": {
      "text/plain": [
       "<keras.engine.sequential.Sequential at 0x2b451ae2580>"
      ]
     },
     "execution_count": 10,
     "metadata": {},
     "output_type": "execute_result"
    }
   ],
   "source": [
    "pretrained_base = tf.keras.models.load_model(\n",
    "    'models/inceptionv1'\n",
    ")\n",
    "\n",
    "pretrained_base.trainable = False\n",
    "\n",
    "pretrained_base"
   ]
  },
  {
   "cell_type": "markdown",
   "id": "c4dc0f31",
   "metadata": {},
   "source": [
    "Next, we attach the classifier head. For this example, we'll use a layer of hidden units (the first Dense layer) followed by a layer to transform the outputs to a probability score for class 1, Truck. The Flatten layer transforms the two dimensional outputs of the base into the one dimensional inputs needed by the head."
   ]
  },
  {
   "cell_type": "code",
   "execution_count": 12,
   "id": "a40310b3",
   "metadata": {},
   "outputs": [],
   "source": [
    "from tensorflow import keras\n",
    "from tensorflow.keras import layers\n",
    "\n",
    "model = keras.Sequential([\n",
    "    # Base\n",
    "    pretrained_base,\n",
    "    layers.Flatten(),  # flatten outputs of base\n",
    "    # Head\n",
    "    layers.Dense(units=6, activation='relu'),\n",
    "    # Output\n",
    "    layers.Dense(units=1, activation='sigmoid'),\n",
    "])"
   ]
  },
  {
   "cell_type": "markdown",
   "id": "2a6e5aa4",
   "metadata": {},
   "source": [
    "Finally, let's train the model. Since this is a two-class problem, we'll use the **binary** versions of ``crossentropy`` and ``accuracy``. The ``adam`` optimizer generally performs well, so we'll choose it as well:"
   ]
  },
  {
   "cell_type": "code",
   "execution_count": 14,
   "id": "6c61cbb2",
   "metadata": {},
   "outputs": [
    {
     "name": "stdout",
     "output_type": "stream",
     "text": [
      "Epoch 1/30\n",
      "80/80 [==============================] - 98s 1s/step - loss: 0.5718 - binary_accuracy: 0.6934 - val_loss: 0.4334 - val_binary_accuracy: 0.8074\n",
      "Epoch 2/30\n",
      "80/80 [==============================] - 78s 985ms/step - loss: 0.4243 - binary_accuracy: 0.8061 - val_loss: 0.3867 - val_binary_accuracy: 0.8323\n",
      "Epoch 3/30\n",
      "80/80 [==============================] - 75s 947ms/step - loss: 0.3886 - binary_accuracy: 0.8304 - val_loss: 0.3704 - val_binary_accuracy: 0.8402\n",
      "Epoch 4/30\n",
      "80/80 [==============================] - 76s 952ms/step - loss: 0.3707 - binary_accuracy: 0.8386 - val_loss: 0.3612 - val_binary_accuracy: 0.8454\n",
      "Epoch 5/30\n",
      "80/80 [==============================] - 76s 956ms/step - loss: 0.3565 - binary_accuracy: 0.8439 - val_loss: 0.3544 - val_binary_accuracy: 0.8495\n",
      "Epoch 6/30\n",
      "80/80 [==============================] - 78s 977ms/step - loss: 0.3458 - binary_accuracy: 0.8478 - val_loss: 0.3480 - val_binary_accuracy: 0.8503\n",
      "Epoch 7/30\n",
      "80/80 [==============================] - 77s 974ms/step - loss: 0.3356 - binary_accuracy: 0.8540 - val_loss: 0.3453 - val_binary_accuracy: 0.8517\n",
      "Epoch 8/30\n",
      "80/80 [==============================] - 78s 976ms/step - loss: 0.3258 - binary_accuracy: 0.8577 - val_loss: 0.3414 - val_binary_accuracy: 0.8543\n",
      "Epoch 9/30\n",
      "80/80 [==============================] - 77s 974ms/step - loss: 0.3182 - binary_accuracy: 0.8628 - val_loss: 0.3391 - val_binary_accuracy: 0.8559\n",
      "Epoch 10/30\n",
      "80/80 [==============================] - 78s 976ms/step - loss: 0.3113 - binary_accuracy: 0.8673 - val_loss: 0.3362 - val_binary_accuracy: 0.8561\n",
      "Epoch 11/30\n",
      "80/80 [==============================] - 78s 977ms/step - loss: 0.3055 - binary_accuracy: 0.8693 - val_loss: 0.3335 - val_binary_accuracy: 0.8555\n",
      "Epoch 12/30\n",
      "80/80 [==============================] - 78s 982ms/step - loss: 0.3008 - binary_accuracy: 0.8724 - val_loss: 0.3328 - val_binary_accuracy: 0.8580\n",
      "Epoch 13/30\n",
      "80/80 [==============================] - 78s 977ms/step - loss: 0.2943 - binary_accuracy: 0.8759 - val_loss: 0.3319 - val_binary_accuracy: 0.8590\n",
      "Epoch 14/30\n",
      "80/80 [==============================] - 78s 977ms/step - loss: 0.2885 - binary_accuracy: 0.8794 - val_loss: 0.3298 - val_binary_accuracy: 0.8590\n",
      "Epoch 15/30\n",
      "80/80 [==============================] - 78s 976ms/step - loss: 0.2837 - binary_accuracy: 0.8824 - val_loss: 0.3290 - val_binary_accuracy: 0.8612\n",
      "Epoch 16/30\n",
      "80/80 [==============================] - 78s 981ms/step - loss: 0.2781 - binary_accuracy: 0.8839 - val_loss: 0.3279 - val_binary_accuracy: 0.8632\n",
      "Epoch 17/30\n",
      "80/80 [==============================] - 78s 978ms/step - loss: 0.2736 - binary_accuracy: 0.8882 - val_loss: 0.3267 - val_binary_accuracy: 0.8644\n",
      "Epoch 18/30\n",
      "11/80 [===>..........................] - ETA: 34s - loss: 0.2779 - binary_accuracy: 0.8878"
     ]
    },
    {
     "ename": "KeyboardInterrupt",
     "evalue": "",
     "output_type": "error",
     "traceback": [
      "\u001b[1;31m---------------------------------------------------------------------------\u001b[0m",
      "\u001b[1;31mKeyboardInterrupt\u001b[0m                         Traceback (most recent call last)",
      "Cell \u001b[1;32mIn[14], line 11\u001b[0m\n\u001b[0;32m      4\u001b[0m \u001b[38;5;66;03m# compile model\u001b[39;00m\n\u001b[0;32m      5\u001b[0m model\u001b[38;5;241m.\u001b[39mcompile(\n\u001b[0;32m      6\u001b[0m     optimizer\u001b[38;5;241m=\u001b[39moptimizer,\n\u001b[0;32m      7\u001b[0m     loss \u001b[38;5;241m=\u001b[39m \u001b[38;5;124m'\u001b[39m\u001b[38;5;124mbinary_crossentropy\u001b[39m\u001b[38;5;124m'\u001b[39m,\n\u001b[0;32m      8\u001b[0m     metrics\u001b[38;5;241m=\u001b[39m[\u001b[38;5;124m'\u001b[39m\u001b[38;5;124mbinary_accuracy\u001b[39m\u001b[38;5;124m'\u001b[39m],\n\u001b[0;32m      9\u001b[0m )\n\u001b[1;32m---> 11\u001b[0m history \u001b[38;5;241m=\u001b[39m \u001b[43mmodel\u001b[49m\u001b[38;5;241;43m.\u001b[39;49m\u001b[43mfit\u001b[49m\u001b[43m(\u001b[49m\n\u001b[0;32m     12\u001b[0m \u001b[43m    \u001b[49m\u001b[43mds_train\u001b[49m\u001b[43m,\u001b[49m\n\u001b[0;32m     13\u001b[0m \u001b[43m    \u001b[49m\u001b[43mvalidation_data\u001b[49m\u001b[38;5;241;43m=\u001b[39;49m\u001b[43mds_valid\u001b[49m\u001b[43m,\u001b[49m\n\u001b[0;32m     14\u001b[0m \u001b[43m    \u001b[49m\u001b[43mepochs\u001b[49m\u001b[38;5;241;43m=\u001b[39;49m\u001b[38;5;241;43m30\u001b[39;49m\u001b[43m,\u001b[49m\n\u001b[0;32m     15\u001b[0m \u001b[43m)\u001b[49m\n",
      "File \u001b[1;32m~\\AppData\\Roaming\\Python\\Python39\\site-packages\\keras\\utils\\traceback_utils.py:65\u001b[0m, in \u001b[0;36mfilter_traceback.<locals>.error_handler\u001b[1;34m(*args, **kwargs)\u001b[0m\n\u001b[0;32m     63\u001b[0m filtered_tb \u001b[38;5;241m=\u001b[39m \u001b[38;5;28;01mNone\u001b[39;00m\n\u001b[0;32m     64\u001b[0m \u001b[38;5;28;01mtry\u001b[39;00m:\n\u001b[1;32m---> 65\u001b[0m     \u001b[38;5;28;01mreturn\u001b[39;00m fn(\u001b[38;5;241m*\u001b[39margs, \u001b[38;5;241m*\u001b[39m\u001b[38;5;241m*\u001b[39mkwargs)\n\u001b[0;32m     66\u001b[0m \u001b[38;5;28;01mexcept\u001b[39;00m \u001b[38;5;167;01mException\u001b[39;00m \u001b[38;5;28;01mas\u001b[39;00m e:\n\u001b[0;32m     67\u001b[0m     filtered_tb \u001b[38;5;241m=\u001b[39m _process_traceback_frames(e\u001b[38;5;241m.\u001b[39m__traceback__)\n",
      "File \u001b[1;32m~\\AppData\\Roaming\\Python\\Python39\\site-packages\\keras\\engine\\training.py:1650\u001b[0m, in \u001b[0;36mModel.fit\u001b[1;34m(self, x, y, batch_size, epochs, verbose, callbacks, validation_split, validation_data, shuffle, class_weight, sample_weight, initial_epoch, steps_per_epoch, validation_steps, validation_batch_size, validation_freq, max_queue_size, workers, use_multiprocessing)\u001b[0m\n\u001b[0;32m   1642\u001b[0m \u001b[38;5;28;01mwith\u001b[39;00m tf\u001b[38;5;241m.\u001b[39mprofiler\u001b[38;5;241m.\u001b[39mexperimental\u001b[38;5;241m.\u001b[39mTrace(\n\u001b[0;32m   1643\u001b[0m     \u001b[38;5;124m\"\u001b[39m\u001b[38;5;124mtrain\u001b[39m\u001b[38;5;124m\"\u001b[39m,\n\u001b[0;32m   1644\u001b[0m     epoch_num\u001b[38;5;241m=\u001b[39mepoch,\n\u001b[1;32m   (...)\u001b[0m\n\u001b[0;32m   1647\u001b[0m     _r\u001b[38;5;241m=\u001b[39m\u001b[38;5;241m1\u001b[39m,\n\u001b[0;32m   1648\u001b[0m ):\n\u001b[0;32m   1649\u001b[0m     callbacks\u001b[38;5;241m.\u001b[39mon_train_batch_begin(step)\n\u001b[1;32m-> 1650\u001b[0m     tmp_logs \u001b[38;5;241m=\u001b[39m \u001b[38;5;28;43mself\u001b[39;49m\u001b[38;5;241;43m.\u001b[39;49m\u001b[43mtrain_function\u001b[49m\u001b[43m(\u001b[49m\u001b[43miterator\u001b[49m\u001b[43m)\u001b[49m\n\u001b[0;32m   1651\u001b[0m     \u001b[38;5;28;01mif\u001b[39;00m data_handler\u001b[38;5;241m.\u001b[39mshould_sync:\n\u001b[0;32m   1652\u001b[0m         context\u001b[38;5;241m.\u001b[39masync_wait()\n",
      "File \u001b[1;32m~\\AppData\\Roaming\\Python\\Python39\\site-packages\\tensorflow\\python\\util\\traceback_utils.py:150\u001b[0m, in \u001b[0;36mfilter_traceback.<locals>.error_handler\u001b[1;34m(*args, **kwargs)\u001b[0m\n\u001b[0;32m    148\u001b[0m filtered_tb \u001b[38;5;241m=\u001b[39m \u001b[38;5;28;01mNone\u001b[39;00m\n\u001b[0;32m    149\u001b[0m \u001b[38;5;28;01mtry\u001b[39;00m:\n\u001b[1;32m--> 150\u001b[0m   \u001b[38;5;28;01mreturn\u001b[39;00m fn(\u001b[38;5;241m*\u001b[39margs, \u001b[38;5;241m*\u001b[39m\u001b[38;5;241m*\u001b[39mkwargs)\n\u001b[0;32m    151\u001b[0m \u001b[38;5;28;01mexcept\u001b[39;00m \u001b[38;5;167;01mException\u001b[39;00m \u001b[38;5;28;01mas\u001b[39;00m e:\n\u001b[0;32m    152\u001b[0m   filtered_tb \u001b[38;5;241m=\u001b[39m _process_traceback_frames(e\u001b[38;5;241m.\u001b[39m__traceback__)\n",
      "File \u001b[1;32m~\\AppData\\Roaming\\Python\\Python39\\site-packages\\tensorflow\\python\\eager\\polymorphic_function\\polymorphic_function.py:880\u001b[0m, in \u001b[0;36mFunction.__call__\u001b[1;34m(self, *args, **kwds)\u001b[0m\n\u001b[0;32m    877\u001b[0m compiler \u001b[38;5;241m=\u001b[39m \u001b[38;5;124m\"\u001b[39m\u001b[38;5;124mxla\u001b[39m\u001b[38;5;124m\"\u001b[39m \u001b[38;5;28;01mif\u001b[39;00m \u001b[38;5;28mself\u001b[39m\u001b[38;5;241m.\u001b[39m_jit_compile \u001b[38;5;28;01melse\u001b[39;00m \u001b[38;5;124m\"\u001b[39m\u001b[38;5;124mnonXla\u001b[39m\u001b[38;5;124m\"\u001b[39m\n\u001b[0;32m    879\u001b[0m \u001b[38;5;28;01mwith\u001b[39;00m OptionalXlaContext(\u001b[38;5;28mself\u001b[39m\u001b[38;5;241m.\u001b[39m_jit_compile):\n\u001b[1;32m--> 880\u001b[0m   result \u001b[38;5;241m=\u001b[39m \u001b[38;5;28mself\u001b[39m\u001b[38;5;241m.\u001b[39m_call(\u001b[38;5;241m*\u001b[39margs, \u001b[38;5;241m*\u001b[39m\u001b[38;5;241m*\u001b[39mkwds)\n\u001b[0;32m    882\u001b[0m new_tracing_count \u001b[38;5;241m=\u001b[39m \u001b[38;5;28mself\u001b[39m\u001b[38;5;241m.\u001b[39mexperimental_get_tracing_count()\n\u001b[0;32m    883\u001b[0m without_tracing \u001b[38;5;241m=\u001b[39m (tracing_count \u001b[38;5;241m==\u001b[39m new_tracing_count)\n",
      "File \u001b[1;32m~\\AppData\\Roaming\\Python\\Python39\\site-packages\\tensorflow\\python\\eager\\polymorphic_function\\polymorphic_function.py:912\u001b[0m, in \u001b[0;36mFunction._call\u001b[1;34m(self, *args, **kwds)\u001b[0m\n\u001b[0;32m    909\u001b[0m   \u001b[38;5;28mself\u001b[39m\u001b[38;5;241m.\u001b[39m_lock\u001b[38;5;241m.\u001b[39mrelease()\n\u001b[0;32m    910\u001b[0m   \u001b[38;5;66;03m# In this case we have created variables on the first call, so we run the\u001b[39;00m\n\u001b[0;32m    911\u001b[0m   \u001b[38;5;66;03m# defunned version which is guaranteed to never create variables.\u001b[39;00m\n\u001b[1;32m--> 912\u001b[0m   \u001b[38;5;28;01mreturn\u001b[39;00m \u001b[38;5;28mself\u001b[39m\u001b[38;5;241m.\u001b[39m_no_variable_creation_fn(\u001b[38;5;241m*\u001b[39margs, \u001b[38;5;241m*\u001b[39m\u001b[38;5;241m*\u001b[39mkwds)  \u001b[38;5;66;03m# pylint: disable=not-callable\u001b[39;00m\n\u001b[0;32m    913\u001b[0m \u001b[38;5;28;01melif\u001b[39;00m \u001b[38;5;28mself\u001b[39m\u001b[38;5;241m.\u001b[39m_variable_creation_fn \u001b[38;5;129;01mis\u001b[39;00m \u001b[38;5;129;01mnot\u001b[39;00m \u001b[38;5;28;01mNone\u001b[39;00m:\n\u001b[0;32m    914\u001b[0m   \u001b[38;5;66;03m# Release the lock early so that multiple threads can perform the call\u001b[39;00m\n\u001b[0;32m    915\u001b[0m   \u001b[38;5;66;03m# in parallel.\u001b[39;00m\n\u001b[0;32m    916\u001b[0m   \u001b[38;5;28mself\u001b[39m\u001b[38;5;241m.\u001b[39m_lock\u001b[38;5;241m.\u001b[39mrelease()\n",
      "File \u001b[1;32m~\\AppData\\Roaming\\Python\\Python39\\site-packages\\tensorflow\\python\\eager\\polymorphic_function\\tracing_compiler.py:134\u001b[0m, in \u001b[0;36mTracingCompiler.__call__\u001b[1;34m(self, *args, **kwargs)\u001b[0m\n\u001b[0;32m    131\u001b[0m \u001b[38;5;28;01mwith\u001b[39;00m \u001b[38;5;28mself\u001b[39m\u001b[38;5;241m.\u001b[39m_lock:\n\u001b[0;32m    132\u001b[0m   (concrete_function,\n\u001b[0;32m    133\u001b[0m    filtered_flat_args) \u001b[38;5;241m=\u001b[39m \u001b[38;5;28mself\u001b[39m\u001b[38;5;241m.\u001b[39m_maybe_define_function(args, kwargs)\n\u001b[1;32m--> 134\u001b[0m \u001b[38;5;28;01mreturn\u001b[39;00m \u001b[43mconcrete_function\u001b[49m\u001b[38;5;241;43m.\u001b[39;49m\u001b[43m_call_flat\u001b[49m\u001b[43m(\u001b[49m\n\u001b[0;32m    135\u001b[0m \u001b[43m    \u001b[49m\u001b[43mfiltered_flat_args\u001b[49m\u001b[43m,\u001b[49m\u001b[43m \u001b[49m\u001b[43mcaptured_inputs\u001b[49m\u001b[38;5;241;43m=\u001b[39;49m\u001b[43mconcrete_function\u001b[49m\u001b[38;5;241;43m.\u001b[39;49m\u001b[43mcaptured_inputs\u001b[49m\u001b[43m)\u001b[49m\n",
      "File \u001b[1;32m~\\AppData\\Roaming\\Python\\Python39\\site-packages\\tensorflow\\python\\eager\\polymorphic_function\\monomorphic_function.py:1745\u001b[0m, in \u001b[0;36mConcreteFunction._call_flat\u001b[1;34m(self, args, captured_inputs, cancellation_manager)\u001b[0m\n\u001b[0;32m   1741\u001b[0m possible_gradient_type \u001b[38;5;241m=\u001b[39m gradients_util\u001b[38;5;241m.\u001b[39mPossibleTapeGradientTypes(args)\n\u001b[0;32m   1742\u001b[0m \u001b[38;5;28;01mif\u001b[39;00m (possible_gradient_type \u001b[38;5;241m==\u001b[39m gradients_util\u001b[38;5;241m.\u001b[39mPOSSIBLE_GRADIENT_TYPES_NONE\n\u001b[0;32m   1743\u001b[0m     \u001b[38;5;129;01mand\u001b[39;00m executing_eagerly):\n\u001b[0;32m   1744\u001b[0m   \u001b[38;5;66;03m# No tape is watching; skip to running the function.\u001b[39;00m\n\u001b[1;32m-> 1745\u001b[0m   \u001b[38;5;28;01mreturn\u001b[39;00m \u001b[38;5;28mself\u001b[39m\u001b[38;5;241m.\u001b[39m_build_call_outputs(\u001b[38;5;28;43mself\u001b[39;49m\u001b[38;5;241;43m.\u001b[39;49m\u001b[43m_inference_function\u001b[49m\u001b[38;5;241;43m.\u001b[39;49m\u001b[43mcall\u001b[49m\u001b[43m(\u001b[49m\n\u001b[0;32m   1746\u001b[0m \u001b[43m      \u001b[49m\u001b[43mctx\u001b[49m\u001b[43m,\u001b[49m\u001b[43m \u001b[49m\u001b[43margs\u001b[49m\u001b[43m,\u001b[49m\u001b[43m \u001b[49m\u001b[43mcancellation_manager\u001b[49m\u001b[38;5;241;43m=\u001b[39;49m\u001b[43mcancellation_manager\u001b[49m\u001b[43m)\u001b[49m)\n\u001b[0;32m   1747\u001b[0m forward_backward \u001b[38;5;241m=\u001b[39m \u001b[38;5;28mself\u001b[39m\u001b[38;5;241m.\u001b[39m_select_forward_and_backward_functions(\n\u001b[0;32m   1748\u001b[0m     args,\n\u001b[0;32m   1749\u001b[0m     possible_gradient_type,\n\u001b[0;32m   1750\u001b[0m     executing_eagerly)\n\u001b[0;32m   1751\u001b[0m forward_function, args_with_tangents \u001b[38;5;241m=\u001b[39m forward_backward\u001b[38;5;241m.\u001b[39mforward()\n",
      "File \u001b[1;32m~\\AppData\\Roaming\\Python\\Python39\\site-packages\\tensorflow\\python\\eager\\polymorphic_function\\monomorphic_function.py:378\u001b[0m, in \u001b[0;36m_EagerDefinedFunction.call\u001b[1;34m(self, ctx, args, cancellation_manager)\u001b[0m\n\u001b[0;32m    376\u001b[0m \u001b[38;5;28;01mwith\u001b[39;00m _InterpolateFunctionError(\u001b[38;5;28mself\u001b[39m):\n\u001b[0;32m    377\u001b[0m   \u001b[38;5;28;01mif\u001b[39;00m cancellation_manager \u001b[38;5;129;01mis\u001b[39;00m \u001b[38;5;28;01mNone\u001b[39;00m:\n\u001b[1;32m--> 378\u001b[0m     outputs \u001b[38;5;241m=\u001b[39m \u001b[43mexecute\u001b[49m\u001b[38;5;241;43m.\u001b[39;49m\u001b[43mexecute\u001b[49m\u001b[43m(\u001b[49m\n\u001b[0;32m    379\u001b[0m \u001b[43m        \u001b[49m\u001b[38;5;28;43mstr\u001b[39;49m\u001b[43m(\u001b[49m\u001b[38;5;28;43mself\u001b[39;49m\u001b[38;5;241;43m.\u001b[39;49m\u001b[43msignature\u001b[49m\u001b[38;5;241;43m.\u001b[39;49m\u001b[43mname\u001b[49m\u001b[43m)\u001b[49m\u001b[43m,\u001b[49m\n\u001b[0;32m    380\u001b[0m \u001b[43m        \u001b[49m\u001b[43mnum_outputs\u001b[49m\u001b[38;5;241;43m=\u001b[39;49m\u001b[38;5;28;43mself\u001b[39;49m\u001b[38;5;241;43m.\u001b[39;49m\u001b[43m_num_outputs\u001b[49m\u001b[43m,\u001b[49m\n\u001b[0;32m    381\u001b[0m \u001b[43m        \u001b[49m\u001b[43minputs\u001b[49m\u001b[38;5;241;43m=\u001b[39;49m\u001b[43margs\u001b[49m\u001b[43m,\u001b[49m\n\u001b[0;32m    382\u001b[0m \u001b[43m        \u001b[49m\u001b[43mattrs\u001b[49m\u001b[38;5;241;43m=\u001b[39;49m\u001b[43mattrs\u001b[49m\u001b[43m,\u001b[49m\n\u001b[0;32m    383\u001b[0m \u001b[43m        \u001b[49m\u001b[43mctx\u001b[49m\u001b[38;5;241;43m=\u001b[39;49m\u001b[43mctx\u001b[49m\u001b[43m)\u001b[49m\n\u001b[0;32m    384\u001b[0m   \u001b[38;5;28;01melse\u001b[39;00m:\n\u001b[0;32m    385\u001b[0m     outputs \u001b[38;5;241m=\u001b[39m execute\u001b[38;5;241m.\u001b[39mexecute_with_cancellation(\n\u001b[0;32m    386\u001b[0m         \u001b[38;5;28mstr\u001b[39m(\u001b[38;5;28mself\u001b[39m\u001b[38;5;241m.\u001b[39msignature\u001b[38;5;241m.\u001b[39mname),\n\u001b[0;32m    387\u001b[0m         num_outputs\u001b[38;5;241m=\u001b[39m\u001b[38;5;28mself\u001b[39m\u001b[38;5;241m.\u001b[39m_num_outputs,\n\u001b[1;32m   (...)\u001b[0m\n\u001b[0;32m    390\u001b[0m         ctx\u001b[38;5;241m=\u001b[39mctx,\n\u001b[0;32m    391\u001b[0m         cancellation_manager\u001b[38;5;241m=\u001b[39mcancellation_manager)\n",
      "File \u001b[1;32m~\\AppData\\Roaming\\Python\\Python39\\site-packages\\tensorflow\\python\\eager\\execute.py:52\u001b[0m, in \u001b[0;36mquick_execute\u001b[1;34m(op_name, num_outputs, inputs, attrs, ctx, name)\u001b[0m\n\u001b[0;32m     50\u001b[0m \u001b[38;5;28;01mtry\u001b[39;00m:\n\u001b[0;32m     51\u001b[0m   ctx\u001b[38;5;241m.\u001b[39mensure_initialized()\n\u001b[1;32m---> 52\u001b[0m   tensors \u001b[38;5;241m=\u001b[39m \u001b[43mpywrap_tfe\u001b[49m\u001b[38;5;241;43m.\u001b[39;49m\u001b[43mTFE_Py_Execute\u001b[49m\u001b[43m(\u001b[49m\u001b[43mctx\u001b[49m\u001b[38;5;241;43m.\u001b[39;49m\u001b[43m_handle\u001b[49m\u001b[43m,\u001b[49m\u001b[43m \u001b[49m\u001b[43mdevice_name\u001b[49m\u001b[43m,\u001b[49m\u001b[43m \u001b[49m\u001b[43mop_name\u001b[49m\u001b[43m,\u001b[49m\n\u001b[0;32m     53\u001b[0m \u001b[43m                                      \u001b[49m\u001b[43minputs\u001b[49m\u001b[43m,\u001b[49m\u001b[43m \u001b[49m\u001b[43mattrs\u001b[49m\u001b[43m,\u001b[49m\u001b[43m \u001b[49m\u001b[43mnum_outputs\u001b[49m\u001b[43m)\u001b[49m\n\u001b[0;32m     54\u001b[0m \u001b[38;5;28;01mexcept\u001b[39;00m core\u001b[38;5;241m.\u001b[39m_NotOkStatusException \u001b[38;5;28;01mas\u001b[39;00m e:\n\u001b[0;32m     55\u001b[0m   \u001b[38;5;28;01mif\u001b[39;00m name \u001b[38;5;129;01mis\u001b[39;00m \u001b[38;5;129;01mnot\u001b[39;00m \u001b[38;5;28;01mNone\u001b[39;00m:\n",
      "\u001b[1;31mKeyboardInterrupt\u001b[0m: "
     ]
    }
   ],
   "source": [
    "# create optimizer\n",
    "optimizer = tf.keras.optimizers.Adam(epsilon=0.01)\n",
    "\n",
    "# compile model\n",
    "model.compile(\n",
    "    optimizer=optimizer,\n",
    "    loss = 'binary_crossentropy',\n",
    "    metrics=['binary_accuracy'],\n",
    ")\n",
    "\n",
    "history = model.fit(\n",
    "    ds_train,\n",
    "    validation_data=ds_valid,\n",
    "    epochs=30,\n",
    ")"
   ]
  },
  {
   "cell_type": "markdown",
   "id": "14f75259",
   "metadata": {},
   "source": [
    "We can use Pandas to convert this dictionary to a dataframe and plot it with a built-in method:"
   ]
  },
  {
   "cell_type": "code",
   "execution_count": null,
   "id": "e425ef63",
   "metadata": {},
   "outputs": [],
   "source": [
    "import pandas as pd\n",
    "history_frame = pd.DataFrame(history.history)\n",
    "history_frame.loc[:, ['loss', 'val_loss']].plot()\n",
    "history_frame.loc[:, ['binary_accuracy', 'val_binary_accuracy']].plot();"
   ]
  },
  {
   "cell_type": "markdown",
   "id": "acef93ab",
   "metadata": {},
   "source": [
    "The training loss and validation loss stay fairly close, this is evidence that the model isn't just memorizing the training data but rather learning general properties of the two classes. However, because this model converges at a loss greater than the VGG16 model (test for yourself), it's likely that it is underfitting some, and could benefit from some extra capacity."
   ]
  },
  {
   "cell_type": "code",
   "execution_count": null,
   "id": "f46366b9",
   "metadata": {},
   "outputs": [],
   "source": []
  }
 ],
 "metadata": {
  "kernelspec": {
   "display_name": "Python 3 (ipykernel)",
   "language": "python",
   "name": "python3"
  },
  "language_info": {
   "codemirror_mode": {
    "name": "ipython",
    "version": 3
   },
   "file_extension": ".py",
   "mimetype": "text/x-python",
   "name": "python",
   "nbconvert_exporter": "python",
   "pygments_lexer": "ipython3",
   "version": "3.9.7"
  }
 },
 "nbformat": 4,
 "nbformat_minor": 5
}
