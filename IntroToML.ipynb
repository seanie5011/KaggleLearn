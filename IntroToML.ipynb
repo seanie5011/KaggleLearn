{
 "cells": [
  {
   "cell_type": "markdown",
   "id": "8fd6ad6d",
   "metadata": {},
   "source": [
    "# Kaggle Learn: Introduction to Machine Learning"
   ]
  },
  {
   "cell_type": "markdown",
   "id": "6425563b",
   "metadata": {},
   "source": [
    "For most of this learning we will be looking at trying to predict house prices. This is done using a snapshot from the [Iowa Housing Dataset](https://www.kaggle.com/datasets/dansbecker/home-data-for-ml-course), found in `Assets/iowa_data.csv`. We will use the scikit-learn library to create our models. Scikit-learn is easily the most popular library for modeling the types of data typically stored in DataFrames."
   ]
  },
  {
   "cell_type": "markdown",
   "id": "5f58a40f",
   "metadata": {},
   "source": [
    "## Table Of Contents"
   ]
  },
  {
   "cell_type": "markdown",
   "id": "8f4a267d",
   "metadata": {},
   "source": [
    "* **0.** [Dependancies and Settings](#0-Dependancies-and-Settings)  \n",
    "* **1.** [Useful Links](#1-Useful-Links)  \n",
    "* **2.** [How Models Work](#2-How-Models-Work)  \n",
    "* **3.** [Basic Data Exploration](#3-Basic-Data-Exploration)  \n",
    "* **4.** [Simple Model Building](#4-Simple-Model-Building)  \n",
    "  * **4.1.** [Data Selection](#4.1-Data-Selection)  \n",
    "  * **4.2.** [Model Fitting and Predicting](#4.2-Model-Fitting-and-Predicting)  \n",
    "* **5.** [Model Validation](#5-Model-Validation)  \n",
    "  * **5.1.** [Testing / Validation Data](#5.1-Testing-/-Validation-Data)  \n",
    "* **6.** [Underfitting and Overfitting](#6-Underfitting-and-Overfitting)  \n",
    "  * **6.1.** [Finding optimal parameters](#6.1-Finding-optimal-parameters)  \n",
    "* **7.** [Random Forests](#7-Random-Forests)  \n",
    "* **8.** [Putting it all together](#8-Putting-it-all-together)  "
   ]
  },
  {
   "cell_type": "markdown",
   "id": "7603a41a",
   "metadata": {},
   "source": [
    "## 0 Dependancies and Settings"
   ]
  },
  {
   "cell_type": "markdown",
   "id": "da7e5a5c",
   "metadata": {},
   "source": [
    "Installation:"
   ]
  },
  {
   "cell_type": "code",
   "execution_count": 1,
   "id": "6d2876d7",
   "metadata": {},
   "outputs": [],
   "source": [
    "# Installing or upgrading\n",
    "# Note: might have to restart kernel\n",
    "\n",
    "# Uncomment:\n",
    "# import sys\n",
    "\n",
    "# Installing:\n",
    "# !{sys.executable} -m pip install scikit-learn\n",
    "# Upgrading:\n",
    "# !{sys.executable} -m pip install --upgrade scipy==1.9.0 --user"
   ]
  },
  {
   "cell_type": "markdown",
   "id": "736c583a",
   "metadata": {},
   "source": [
    "Imports:"
   ]
  },
  {
   "cell_type": "code",
   "execution_count": 2,
   "id": "497ecebb",
   "metadata": {},
   "outputs": [],
   "source": [
    "import matplotlib.pyplot as plt\n",
    "import numpy as np\n",
    "import pandas as pd\n",
    "import sklearn"
   ]
  },
  {
   "cell_type": "code",
   "execution_count": 3,
   "id": "fba04b5e",
   "metadata": {},
   "outputs": [
    {
     "name": "stdout",
     "output_type": "stream",
     "text": [
      "pandas version: 1.5.2\n",
      "numpy version: 1.23.0\n",
      "scikit-learn version: 1.2.0\n"
     ]
    }
   ],
   "source": [
    "print('pandas version:', pd.__version__)\n",
    "print('numpy version:', np.__version__)\n",
    "print('scikit-learn version:', sklearn.__version__)"
   ]
  },
  {
   "cell_type": "markdown",
   "id": "ac134a9f",
   "metadata": {},
   "source": [
    "Set the plotting style:"
   ]
  },
  {
   "cell_type": "code",
   "execution_count": 4,
   "id": "67d67f39",
   "metadata": {},
   "outputs": [
    {
     "name": "stdout",
     "output_type": "stream",
     "text": [
      "Using Scientific Style.\n"
     ]
    }
   ],
   "source": [
    "try:\n",
    "    scientific_style = [\n",
    "        '../../Random/PythonTutorialsForDataScience/data/science.mplstyle', \n",
    "        '../../Random/PythonTutorialsForDataScience/data/notebook.mplstyle', \n",
    "        '../../Random/PythonTutorialsForDataScience/data/grid.mplstyle'\n",
    "    ]\n",
    "\n",
    "    plt.style.use(scientific_style)\n",
    "    \n",
    "    print('Using Scientific Style.')\n",
    "except:\n",
    "    print('Missing Scientific Style, continuing with default.')"
   ]
  },
  {
   "cell_type": "markdown",
   "id": "0f63f1fd",
   "metadata": {},
   "source": [
    "Define the filepath where most of the data resides:"
   ]
  },
  {
   "cell_type": "code",
   "execution_count": 5,
   "id": "fd12a653",
   "metadata": {},
   "outputs": [],
   "source": [
    "path = r'C:\\Users\\seani\\Documents\\JupyterNotebooks\\Kaggle\\KaggleLearn\\Assets'"
   ]
  },
  {
   "cell_type": "markdown",
   "id": "43c4d8fd",
   "metadata": {},
   "source": [
    "Function used to get names of files in a directory:"
   ]
  },
  {
   "cell_type": "code",
   "execution_count": 6,
   "id": "2431e1e2",
   "metadata": {},
   "outputs": [],
   "source": [
    "import os\n",
    "\n",
    "def get_files(path):\n",
    "    '''\n",
    "    Inputs: a path string\n",
    "    Returns: a list of names of files in a directory\n",
    "    '''\n",
    "    \n",
    "    files = []\n",
    "    # search through each item in the directory\n",
    "    for file in os.listdir(path):\n",
    "        # check it is a file\n",
    "        if os.path.isfile(os.path.join(path, file)):\n",
    "            files.append(file)\n",
    "    \n",
    "    return files"
   ]
  },
  {
   "cell_type": "markdown",
   "id": "79f6843f",
   "metadata": {},
   "source": [
    "The seed used throughout for reproducable randomness:"
   ]
  },
  {
   "cell_type": "code",
   "execution_count": 7,
   "id": "fc43f5bf",
   "metadata": {},
   "outputs": [],
   "source": [
    "seed = 1"
   ]
  },
  {
   "cell_type": "markdown",
   "id": "e08d78b9",
   "metadata": {},
   "source": [
    "## 1 Useful Links"
   ]
  },
  {
   "cell_type": "markdown",
   "id": "69c169af",
   "metadata": {},
   "source": [
    "- scikit-learn docs: https://scikit-learn.org/stable/modules/classes.html\n",
    "- Melbourne Housing snapshot: https://www.kaggle.com/datasets/dansbecker/melbourne-housing-snapshot\n",
    "- Iowa Housing dataset: https://www.kaggle.com/datasets/dansbecker/home-data-for-ml-course"
   ]
  },
  {
   "cell_type": "markdown",
   "id": "0d62507c",
   "metadata": {},
   "source": [
    "## 2 How Models Work"
   ]
  },
  {
   "cell_type": "markdown",
   "id": "1a94900c",
   "metadata": {},
   "source": [
    "If you were to speak to a person who had been eyeing the housing market for some time, and you asked them how they predict the prices in the future, they would likely say it's simply intuition. However, they might reveal that they have identified price patterns from houses they have seen in the past, and uses these patterns to make predictions for the future. Machine Learning aims to do the same thing.\n",
    "\n",
    "We will start with a model called a **Decision Tree**. This is a relatively simple model, and much fancier (and more accurate) models exist. A Decision Tree simply takes an input and asks a question about that input, then follows a given **branch** depending on the answer. For example, a simple Decision Tree would be as follows:"
   ]
  },
  {
   "attachments": {
    "Figure1.jpg": {
     "image/jpeg": "[encoded data removed]"
    }
   },
   "cell_type": "markdown",
   "id": "b2dd21db",
   "metadata": {},
   "source": [
    "![Figure1.jpg](attachment:Figure1.jpg)\n",
    "\n",
    "*Figure 1: A simple Decision Tree. The Question asked (box above) has two answers (left and right, No and Yes). This leads to two different predicted prices (different branches) depending on the answer.*"
   ]
  },
  {
   "cell_type": "markdown",
   "id": "0ca63aaf",
   "metadata": {},
   "source": [
    "In Figure 1, we take in our dataset and ask whether the house has more than 2 bedrooms. Depending whether the answer is yes or no, we move to a given branch. These branches then lead us to a predicted price for that house. Typically, this predicted price is the historical average price of houses in the same category, but can be determined differently (for example, weighted by time). This step of capturing patterns from data is called **fitting** or **training** the model. The data used to fit the model is called the **training data**.\n",
    "\n",
    "You can capture more factors using a tree that has more *splits*. These are called *deeper* trees. A decision tree that also considers the total size of each house's lot might look like this:"
   ]
  },
  {
   "attachments": {
    "Figure2.jpg": {
     "image/jpeg": "[encoded data removed]"
    }
   },
   "cell_type": "markdown",
   "id": "969b94d2",
   "metadata": {},
   "source": [
    "###### Figure 2\n",
    "\n",
    "![Figure2.jpg](attachment:Figure2.jpg)\n",
    "\n",
    "*Figure 2: A more complex Decision Tree. It has one more **layer**, and so another factor is included. The data is checked whether it meets certain lot sizes depending on the branch it took, and then another branch is taken to give the precicted price, at a **leaf**.*"
   ]
  },
  {
   "cell_type": "markdown",
   "id": "982b85bc",
   "metadata": {},
   "source": [
    "## 3 Basic Data Exploration"
   ]
  },
  {
   "cell_type": "markdown",
   "id": "92065ae2",
   "metadata": {},
   "source": [
    "In this section we will go through basic data exploration and manipulation using `pandas`. We will be working with the data from `Assets/iowa_data.csv`, but similar analysis can be done on the Melbourne Dataset. We can import the data and see a quick summary of it in the following cell. The summary includes the size of that column (ignoring `NaN` rows), mean, standard deviation, minimum, percentiles (`25%` is a number bigger than $25\\%$ but smaller than $75\\%$ of values), and maximum."
   ]
  },
  {
   "cell_type": "code",
   "execution_count": 8,
   "id": "e59b5f84",
   "metadata": {},
   "outputs": [
    {
     "data": {
      "text/html": [
       "<div>\n",
       "<style scoped>\n",
       "    .dataframe tbody tr th:only-of-type {\n",
       "        vertical-align: middle;\n",
       "    }\n",
       "\n",
       "    .dataframe tbody tr th {\n",
       "        vertical-align: top;\n",
       "    }\n",
       "\n",
       "    .dataframe thead th {\n",
       "        text-align: right;\n",
       "    }\n",
       "</style>\n",
       "<table border=\"1\" class=\"dataframe\">\n",
       "  <thead>\n",
       "    <tr style=\"text-align: right;\">\n",
       "      <th></th>\n",
       "      <th>Id</th>\n",
       "      <th>MSSubClass</th>\n",
       "      <th>LotFrontage</th>\n",
       "      <th>LotArea</th>\n",
       "      <th>OverallQual</th>\n",
       "      <th>OverallCond</th>\n",
       "      <th>YearBuilt</th>\n",
       "      <th>YearRemodAdd</th>\n",
       "      <th>MasVnrArea</th>\n",
       "      <th>BsmtFinSF1</th>\n",
       "      <th>...</th>\n",
       "      <th>WoodDeckSF</th>\n",
       "      <th>OpenPorchSF</th>\n",
       "      <th>EnclosedPorch</th>\n",
       "      <th>3SsnPorch</th>\n",
       "      <th>ScreenPorch</th>\n",
       "      <th>PoolArea</th>\n",
       "      <th>MiscVal</th>\n",
       "      <th>MoSold</th>\n",
       "      <th>YrSold</th>\n",
       "      <th>SalePrice</th>\n",
       "    </tr>\n",
       "  </thead>\n",
       "  <tbody>\n",
       "    <tr>\n",
       "      <th>count</th>\n",
       "      <td>1460.000000</td>\n",
       "      <td>1460.000000</td>\n",
       "      <td>1201.000000</td>\n",
       "      <td>1460.000000</td>\n",
       "      <td>1460.000000</td>\n",
       "      <td>1460.000000</td>\n",
       "      <td>1460.000000</td>\n",
       "      <td>1460.000000</td>\n",
       "      <td>1452.000000</td>\n",
       "      <td>1460.000000</td>\n",
       "      <td>...</td>\n",
       "      <td>1460.000000</td>\n",
       "      <td>1460.000000</td>\n",
       "      <td>1460.000000</td>\n",
       "      <td>1460.000000</td>\n",
       "      <td>1460.000000</td>\n",
       "      <td>1460.000000</td>\n",
       "      <td>1460.000000</td>\n",
       "      <td>1460.000000</td>\n",
       "      <td>1460.000000</td>\n",
       "      <td>1460.000000</td>\n",
       "    </tr>\n",
       "    <tr>\n",
       "      <th>mean</th>\n",
       "      <td>730.500000</td>\n",
       "      <td>56.897260</td>\n",
       "      <td>70.049958</td>\n",
       "      <td>10516.828082</td>\n",
       "      <td>6.099315</td>\n",
       "      <td>5.575342</td>\n",
       "      <td>1971.267808</td>\n",
       "      <td>1984.865753</td>\n",
       "      <td>103.685262</td>\n",
       "      <td>443.639726</td>\n",
       "      <td>...</td>\n",
       "      <td>94.244521</td>\n",
       "      <td>46.660274</td>\n",
       "      <td>21.954110</td>\n",
       "      <td>3.409589</td>\n",
       "      <td>15.060959</td>\n",
       "      <td>2.758904</td>\n",
       "      <td>43.489041</td>\n",
       "      <td>6.321918</td>\n",
       "      <td>2007.815753</td>\n",
       "      <td>180921.195890</td>\n",
       "    </tr>\n",
       "    <tr>\n",
       "      <th>std</th>\n",
       "      <td>421.610009</td>\n",
       "      <td>42.300571</td>\n",
       "      <td>24.284752</td>\n",
       "      <td>9981.264932</td>\n",
       "      <td>1.382997</td>\n",
       "      <td>1.112799</td>\n",
       "      <td>30.202904</td>\n",
       "      <td>20.645407</td>\n",
       "      <td>181.066207</td>\n",
       "      <td>456.098091</td>\n",
       "      <td>...</td>\n",
       "      <td>125.338794</td>\n",
       "      <td>66.256028</td>\n",
       "      <td>61.119149</td>\n",
       "      <td>29.317331</td>\n",
       "      <td>55.757415</td>\n",
       "      <td>40.177307</td>\n",
       "      <td>496.123024</td>\n",
       "      <td>2.703626</td>\n",
       "      <td>1.328095</td>\n",
       "      <td>79442.502883</td>\n",
       "    </tr>\n",
       "    <tr>\n",
       "      <th>min</th>\n",
       "      <td>1.000000</td>\n",
       "      <td>20.000000</td>\n",
       "      <td>21.000000</td>\n",
       "      <td>1300.000000</td>\n",
       "      <td>1.000000</td>\n",
       "      <td>1.000000</td>\n",
       "      <td>1872.000000</td>\n",
       "      <td>1950.000000</td>\n",
       "      <td>0.000000</td>\n",
       "      <td>0.000000</td>\n",
       "      <td>...</td>\n",
       "      <td>0.000000</td>\n",
       "      <td>0.000000</td>\n",
       "      <td>0.000000</td>\n",
       "      <td>0.000000</td>\n",
       "      <td>0.000000</td>\n",
       "      <td>0.000000</td>\n",
       "      <td>0.000000</td>\n",
       "      <td>1.000000</td>\n",
       "      <td>2006.000000</td>\n",
       "      <td>34900.000000</td>\n",
       "    </tr>\n",
       "    <tr>\n",
       "      <th>25%</th>\n",
       "      <td>365.750000</td>\n",
       "      <td>20.000000</td>\n",
       "      <td>59.000000</td>\n",
       "      <td>7553.500000</td>\n",
       "      <td>5.000000</td>\n",
       "      <td>5.000000</td>\n",
       "      <td>1954.000000</td>\n",
       "      <td>1967.000000</td>\n",
       "      <td>0.000000</td>\n",
       "      <td>0.000000</td>\n",
       "      <td>...</td>\n",
       "      <td>0.000000</td>\n",
       "      <td>0.000000</td>\n",
       "      <td>0.000000</td>\n",
       "      <td>0.000000</td>\n",
       "      <td>0.000000</td>\n",
       "      <td>0.000000</td>\n",
       "      <td>0.000000</td>\n",
       "      <td>5.000000</td>\n",
       "      <td>2007.000000</td>\n",
       "      <td>129975.000000</td>\n",
       "    </tr>\n",
       "    <tr>\n",
       "      <th>50%</th>\n",
       "      <td>730.500000</td>\n",
       "      <td>50.000000</td>\n",
       "      <td>69.000000</td>\n",
       "      <td>9478.500000</td>\n",
       "      <td>6.000000</td>\n",
       "      <td>5.000000</td>\n",
       "      <td>1973.000000</td>\n",
       "      <td>1994.000000</td>\n",
       "      <td>0.000000</td>\n",
       "      <td>383.500000</td>\n",
       "      <td>...</td>\n",
       "      <td>0.000000</td>\n",
       "      <td>25.000000</td>\n",
       "      <td>0.000000</td>\n",
       "      <td>0.000000</td>\n",
       "      <td>0.000000</td>\n",
       "      <td>0.000000</td>\n",
       "      <td>0.000000</td>\n",
       "      <td>6.000000</td>\n",
       "      <td>2008.000000</td>\n",
       "      <td>163000.000000</td>\n",
       "    </tr>\n",
       "    <tr>\n",
       "      <th>75%</th>\n",
       "      <td>1095.250000</td>\n",
       "      <td>70.000000</td>\n",
       "      <td>80.000000</td>\n",
       "      <td>11601.500000</td>\n",
       "      <td>7.000000</td>\n",
       "      <td>6.000000</td>\n",
       "      <td>2000.000000</td>\n",
       "      <td>2004.000000</td>\n",
       "      <td>166.000000</td>\n",
       "      <td>712.250000</td>\n",
       "      <td>...</td>\n",
       "      <td>168.000000</td>\n",
       "      <td>68.000000</td>\n",
       "      <td>0.000000</td>\n",
       "      <td>0.000000</td>\n",
       "      <td>0.000000</td>\n",
       "      <td>0.000000</td>\n",
       "      <td>0.000000</td>\n",
       "      <td>8.000000</td>\n",
       "      <td>2009.000000</td>\n",
       "      <td>214000.000000</td>\n",
       "    </tr>\n",
       "    <tr>\n",
       "      <th>max</th>\n",
       "      <td>1460.000000</td>\n",
       "      <td>190.000000</td>\n",
       "      <td>313.000000</td>\n",
       "      <td>215245.000000</td>\n",
       "      <td>10.000000</td>\n",
       "      <td>9.000000</td>\n",
       "      <td>2010.000000</td>\n",
       "      <td>2010.000000</td>\n",
       "      <td>1600.000000</td>\n",
       "      <td>5644.000000</td>\n",
       "      <td>...</td>\n",
       "      <td>857.000000</td>\n",
       "      <td>547.000000</td>\n",
       "      <td>552.000000</td>\n",
       "      <td>508.000000</td>\n",
       "      <td>480.000000</td>\n",
       "      <td>738.000000</td>\n",
       "      <td>15500.000000</td>\n",
       "      <td>12.000000</td>\n",
       "      <td>2010.000000</td>\n",
       "      <td>755000.000000</td>\n",
       "    </tr>\n",
       "  </tbody>\n",
       "</table>\n",
       "<p>8 rows × 38 columns</p>\n",
       "</div>"
      ],
      "text/plain": [
       "                Id   MSSubClass  LotFrontage        LotArea  OverallQual  \\\n",
       "count  1460.000000  1460.000000  1201.000000    1460.000000  1460.000000   \n",
       "mean    730.500000    56.897260    70.049958   10516.828082     6.099315   \n",
       "std     421.610009    42.300571    24.284752    9981.264932     1.382997   \n",
       "min       1.000000    20.000000    21.000000    1300.000000     1.000000   \n",
       "25%     365.750000    20.000000    59.000000    7553.500000     5.000000   \n",
       "50%     730.500000    50.000000    69.000000    9478.500000     6.000000   \n",
       "75%    1095.250000    70.000000    80.000000   11601.500000     7.000000   \n",
       "max    1460.000000   190.000000   313.000000  215245.000000    10.000000   \n",
       "\n",
       "       OverallCond    YearBuilt  YearRemodAdd   MasVnrArea   BsmtFinSF1  ...  \\\n",
       "count  1460.000000  1460.000000   1460.000000  1452.000000  1460.000000  ...   \n",
       "mean      5.575342  1971.267808   1984.865753   103.685262   443.639726  ...   \n",
       "std       1.112799    30.202904     20.645407   181.066207   456.098091  ...   \n",
       "min       1.000000  1872.000000   1950.000000     0.000000     0.000000  ...   \n",
       "25%       5.000000  1954.000000   1967.000000     0.000000     0.000000  ...   \n",
       "50%       5.000000  1973.000000   1994.000000     0.000000   383.500000  ...   \n",
       "75%       6.000000  2000.000000   2004.000000   166.000000   712.250000  ...   \n",
       "max       9.000000  2010.000000   2010.000000  1600.000000  5644.000000  ...   \n",
       "\n",
       "        WoodDeckSF  OpenPorchSF  EnclosedPorch    3SsnPorch  ScreenPorch  \\\n",
       "count  1460.000000  1460.000000    1460.000000  1460.000000  1460.000000   \n",
       "mean     94.244521    46.660274      21.954110     3.409589    15.060959   \n",
       "std     125.338794    66.256028      61.119149    29.317331    55.757415   \n",
       "min       0.000000     0.000000       0.000000     0.000000     0.000000   \n",
       "25%       0.000000     0.000000       0.000000     0.000000     0.000000   \n",
       "50%       0.000000    25.000000       0.000000     0.000000     0.000000   \n",
       "75%     168.000000    68.000000       0.000000     0.000000     0.000000   \n",
       "max     857.000000   547.000000     552.000000   508.000000   480.000000   \n",
       "\n",
       "          PoolArea       MiscVal       MoSold       YrSold      SalePrice  \n",
       "count  1460.000000   1460.000000  1460.000000  1460.000000    1460.000000  \n",
       "mean      2.758904     43.489041     6.321918  2007.815753  180921.195890  \n",
       "std      40.177307    496.123024     2.703626     1.328095   79442.502883  \n",
       "min       0.000000      0.000000     1.000000  2006.000000   34900.000000  \n",
       "25%       0.000000      0.000000     5.000000  2007.000000  129975.000000  \n",
       "50%       0.000000      0.000000     6.000000  2008.000000  163000.000000  \n",
       "75%       0.000000      0.000000     8.000000  2009.000000  214000.000000  \n",
       "max     738.000000  15500.000000    12.000000  2010.000000  755000.000000  \n",
       "\n",
       "[8 rows x 38 columns]"
      ]
     },
     "execution_count": 8,
     "metadata": {},
     "output_type": "execute_result"
    }
   ],
   "source": [
    "# Path of the file to read\n",
    "iowa_file_path = 'Assets/iowa_data.csv'\n",
    "\n",
    "# read the file\n",
    "home_data = pd.read_csv(iowa_file_path)\n",
    "\n",
    "# print a summary of the data\n",
    "home_data.describe()"
   ]
  },
  {
   "cell_type": "markdown",
   "id": "3b9d9159",
   "metadata": {},
   "source": [
    "The dataset itself looks like the following:"
   ]
  },
  {
   "cell_type": "code",
   "execution_count": 9,
   "id": "b708fda7",
   "metadata": {},
   "outputs": [
    {
     "data": {
      "text/html": [
       "<div>\n",
       "<style scoped>\n",
       "    .dataframe tbody tr th:only-of-type {\n",
       "        vertical-align: middle;\n",
       "    }\n",
       "\n",
       "    .dataframe tbody tr th {\n",
       "        vertical-align: top;\n",
       "    }\n",
       "\n",
       "    .dataframe thead th {\n",
       "        text-align: right;\n",
       "    }\n",
       "</style>\n",
       "<table border=\"1\" class=\"dataframe\">\n",
       "  <thead>\n",
       "    <tr style=\"text-align: right;\">\n",
       "      <th></th>\n",
       "      <th>Id</th>\n",
       "      <th>MSSubClass</th>\n",
       "      <th>MSZoning</th>\n",
       "      <th>LotFrontage</th>\n",
       "      <th>LotArea</th>\n",
       "      <th>Street</th>\n",
       "      <th>Alley</th>\n",
       "      <th>LotShape</th>\n",
       "      <th>LandContour</th>\n",
       "      <th>Utilities</th>\n",
       "      <th>...</th>\n",
       "      <th>PoolArea</th>\n",
       "      <th>PoolQC</th>\n",
       "      <th>Fence</th>\n",
       "      <th>MiscFeature</th>\n",
       "      <th>MiscVal</th>\n",
       "      <th>MoSold</th>\n",
       "      <th>YrSold</th>\n",
       "      <th>SaleType</th>\n",
       "      <th>SaleCondition</th>\n",
       "      <th>SalePrice</th>\n",
       "    </tr>\n",
       "  </thead>\n",
       "  <tbody>\n",
       "    <tr>\n",
       "      <th>0</th>\n",
       "      <td>1</td>\n",
       "      <td>60</td>\n",
       "      <td>RL</td>\n",
       "      <td>65.0</td>\n",
       "      <td>8450</td>\n",
       "      <td>Pave</td>\n",
       "      <td>NaN</td>\n",
       "      <td>Reg</td>\n",
       "      <td>Lvl</td>\n",
       "      <td>AllPub</td>\n",
       "      <td>...</td>\n",
       "      <td>0</td>\n",
       "      <td>NaN</td>\n",
       "      <td>NaN</td>\n",
       "      <td>NaN</td>\n",
       "      <td>0</td>\n",
       "      <td>2</td>\n",
       "      <td>2008</td>\n",
       "      <td>WD</td>\n",
       "      <td>Normal</td>\n",
       "      <td>208500</td>\n",
       "    </tr>\n",
       "    <tr>\n",
       "      <th>1</th>\n",
       "      <td>2</td>\n",
       "      <td>20</td>\n",
       "      <td>RL</td>\n",
       "      <td>80.0</td>\n",
       "      <td>9600</td>\n",
       "      <td>Pave</td>\n",
       "      <td>NaN</td>\n",
       "      <td>Reg</td>\n",
       "      <td>Lvl</td>\n",
       "      <td>AllPub</td>\n",
       "      <td>...</td>\n",
       "      <td>0</td>\n",
       "      <td>NaN</td>\n",
       "      <td>NaN</td>\n",
       "      <td>NaN</td>\n",
       "      <td>0</td>\n",
       "      <td>5</td>\n",
       "      <td>2007</td>\n",
       "      <td>WD</td>\n",
       "      <td>Normal</td>\n",
       "      <td>181500</td>\n",
       "    </tr>\n",
       "    <tr>\n",
       "      <th>2</th>\n",
       "      <td>3</td>\n",
       "      <td>60</td>\n",
       "      <td>RL</td>\n",
       "      <td>68.0</td>\n",
       "      <td>11250</td>\n",
       "      <td>Pave</td>\n",
       "      <td>NaN</td>\n",
       "      <td>IR1</td>\n",
       "      <td>Lvl</td>\n",
       "      <td>AllPub</td>\n",
       "      <td>...</td>\n",
       "      <td>0</td>\n",
       "      <td>NaN</td>\n",
       "      <td>NaN</td>\n",
       "      <td>NaN</td>\n",
       "      <td>0</td>\n",
       "      <td>9</td>\n",
       "      <td>2008</td>\n",
       "      <td>WD</td>\n",
       "      <td>Normal</td>\n",
       "      <td>223500</td>\n",
       "    </tr>\n",
       "    <tr>\n",
       "      <th>3</th>\n",
       "      <td>4</td>\n",
       "      <td>70</td>\n",
       "      <td>RL</td>\n",
       "      <td>60.0</td>\n",
       "      <td>9550</td>\n",
       "      <td>Pave</td>\n",
       "      <td>NaN</td>\n",
       "      <td>IR1</td>\n",
       "      <td>Lvl</td>\n",
       "      <td>AllPub</td>\n",
       "      <td>...</td>\n",
       "      <td>0</td>\n",
       "      <td>NaN</td>\n",
       "      <td>NaN</td>\n",
       "      <td>NaN</td>\n",
       "      <td>0</td>\n",
       "      <td>2</td>\n",
       "      <td>2006</td>\n",
       "      <td>WD</td>\n",
       "      <td>Abnorml</td>\n",
       "      <td>140000</td>\n",
       "    </tr>\n",
       "    <tr>\n",
       "      <th>4</th>\n",
       "      <td>5</td>\n",
       "      <td>60</td>\n",
       "      <td>RL</td>\n",
       "      <td>84.0</td>\n",
       "      <td>14260</td>\n",
       "      <td>Pave</td>\n",
       "      <td>NaN</td>\n",
       "      <td>IR1</td>\n",
       "      <td>Lvl</td>\n",
       "      <td>AllPub</td>\n",
       "      <td>...</td>\n",
       "      <td>0</td>\n",
       "      <td>NaN</td>\n",
       "      <td>NaN</td>\n",
       "      <td>NaN</td>\n",
       "      <td>0</td>\n",
       "      <td>12</td>\n",
       "      <td>2008</td>\n",
       "      <td>WD</td>\n",
       "      <td>Normal</td>\n",
       "      <td>250000</td>\n",
       "    </tr>\n",
       "    <tr>\n",
       "      <th>...</th>\n",
       "      <td>...</td>\n",
       "      <td>...</td>\n",
       "      <td>...</td>\n",
       "      <td>...</td>\n",
       "      <td>...</td>\n",
       "      <td>...</td>\n",
       "      <td>...</td>\n",
       "      <td>...</td>\n",
       "      <td>...</td>\n",
       "      <td>...</td>\n",
       "      <td>...</td>\n",
       "      <td>...</td>\n",
       "      <td>...</td>\n",
       "      <td>...</td>\n",
       "      <td>...</td>\n",
       "      <td>...</td>\n",
       "      <td>...</td>\n",
       "      <td>...</td>\n",
       "      <td>...</td>\n",
       "      <td>...</td>\n",
       "      <td>...</td>\n",
       "    </tr>\n",
       "    <tr>\n",
       "      <th>1455</th>\n",
       "      <td>1456</td>\n",
       "      <td>60</td>\n",
       "      <td>RL</td>\n",
       "      <td>62.0</td>\n",
       "      <td>7917</td>\n",
       "      <td>Pave</td>\n",
       "      <td>NaN</td>\n",
       "      <td>Reg</td>\n",
       "      <td>Lvl</td>\n",
       "      <td>AllPub</td>\n",
       "      <td>...</td>\n",
       "      <td>0</td>\n",
       "      <td>NaN</td>\n",
       "      <td>NaN</td>\n",
       "      <td>NaN</td>\n",
       "      <td>0</td>\n",
       "      <td>8</td>\n",
       "      <td>2007</td>\n",
       "      <td>WD</td>\n",
       "      <td>Normal</td>\n",
       "      <td>175000</td>\n",
       "    </tr>\n",
       "    <tr>\n",
       "      <th>1456</th>\n",
       "      <td>1457</td>\n",
       "      <td>20</td>\n",
       "      <td>RL</td>\n",
       "      <td>85.0</td>\n",
       "      <td>13175</td>\n",
       "      <td>Pave</td>\n",
       "      <td>NaN</td>\n",
       "      <td>Reg</td>\n",
       "      <td>Lvl</td>\n",
       "      <td>AllPub</td>\n",
       "      <td>...</td>\n",
       "      <td>0</td>\n",
       "      <td>NaN</td>\n",
       "      <td>MnPrv</td>\n",
       "      <td>NaN</td>\n",
       "      <td>0</td>\n",
       "      <td>2</td>\n",
       "      <td>2010</td>\n",
       "      <td>WD</td>\n",
       "      <td>Normal</td>\n",
       "      <td>210000</td>\n",
       "    </tr>\n",
       "    <tr>\n",
       "      <th>1457</th>\n",
       "      <td>1458</td>\n",
       "      <td>70</td>\n",
       "      <td>RL</td>\n",
       "      <td>66.0</td>\n",
       "      <td>9042</td>\n",
       "      <td>Pave</td>\n",
       "      <td>NaN</td>\n",
       "      <td>Reg</td>\n",
       "      <td>Lvl</td>\n",
       "      <td>AllPub</td>\n",
       "      <td>...</td>\n",
       "      <td>0</td>\n",
       "      <td>NaN</td>\n",
       "      <td>GdPrv</td>\n",
       "      <td>Shed</td>\n",
       "      <td>2500</td>\n",
       "      <td>5</td>\n",
       "      <td>2010</td>\n",
       "      <td>WD</td>\n",
       "      <td>Normal</td>\n",
       "      <td>266500</td>\n",
       "    </tr>\n",
       "    <tr>\n",
       "      <th>1458</th>\n",
       "      <td>1459</td>\n",
       "      <td>20</td>\n",
       "      <td>RL</td>\n",
       "      <td>68.0</td>\n",
       "      <td>9717</td>\n",
       "      <td>Pave</td>\n",
       "      <td>NaN</td>\n",
       "      <td>Reg</td>\n",
       "      <td>Lvl</td>\n",
       "      <td>AllPub</td>\n",
       "      <td>...</td>\n",
       "      <td>0</td>\n",
       "      <td>NaN</td>\n",
       "      <td>NaN</td>\n",
       "      <td>NaN</td>\n",
       "      <td>0</td>\n",
       "      <td>4</td>\n",
       "      <td>2010</td>\n",
       "      <td>WD</td>\n",
       "      <td>Normal</td>\n",
       "      <td>142125</td>\n",
       "    </tr>\n",
       "    <tr>\n",
       "      <th>1459</th>\n",
       "      <td>1460</td>\n",
       "      <td>20</td>\n",
       "      <td>RL</td>\n",
       "      <td>75.0</td>\n",
       "      <td>9937</td>\n",
       "      <td>Pave</td>\n",
       "      <td>NaN</td>\n",
       "      <td>Reg</td>\n",
       "      <td>Lvl</td>\n",
       "      <td>AllPub</td>\n",
       "      <td>...</td>\n",
       "      <td>0</td>\n",
       "      <td>NaN</td>\n",
       "      <td>NaN</td>\n",
       "      <td>NaN</td>\n",
       "      <td>0</td>\n",
       "      <td>6</td>\n",
       "      <td>2008</td>\n",
       "      <td>WD</td>\n",
       "      <td>Normal</td>\n",
       "      <td>147500</td>\n",
       "    </tr>\n",
       "  </tbody>\n",
       "</table>\n",
       "<p>1460 rows × 81 columns</p>\n",
       "</div>"
      ],
      "text/plain": [
       "        Id  MSSubClass MSZoning  LotFrontage  LotArea Street Alley LotShape  \\\n",
       "0        1          60       RL         65.0     8450   Pave   NaN      Reg   \n",
       "1        2          20       RL         80.0     9600   Pave   NaN      Reg   \n",
       "2        3          60       RL         68.0    11250   Pave   NaN      IR1   \n",
       "3        4          70       RL         60.0     9550   Pave   NaN      IR1   \n",
       "4        5          60       RL         84.0    14260   Pave   NaN      IR1   \n",
       "...    ...         ...      ...          ...      ...    ...   ...      ...   \n",
       "1455  1456          60       RL         62.0     7917   Pave   NaN      Reg   \n",
       "1456  1457          20       RL         85.0    13175   Pave   NaN      Reg   \n",
       "1457  1458          70       RL         66.0     9042   Pave   NaN      Reg   \n",
       "1458  1459          20       RL         68.0     9717   Pave   NaN      Reg   \n",
       "1459  1460          20       RL         75.0     9937   Pave   NaN      Reg   \n",
       "\n",
       "     LandContour Utilities  ... PoolArea PoolQC  Fence MiscFeature MiscVal  \\\n",
       "0            Lvl    AllPub  ...        0    NaN    NaN         NaN       0   \n",
       "1            Lvl    AllPub  ...        0    NaN    NaN         NaN       0   \n",
       "2            Lvl    AllPub  ...        0    NaN    NaN         NaN       0   \n",
       "3            Lvl    AllPub  ...        0    NaN    NaN         NaN       0   \n",
       "4            Lvl    AllPub  ...        0    NaN    NaN         NaN       0   \n",
       "...          ...       ...  ...      ...    ...    ...         ...     ...   \n",
       "1455         Lvl    AllPub  ...        0    NaN    NaN         NaN       0   \n",
       "1456         Lvl    AllPub  ...        0    NaN  MnPrv         NaN       0   \n",
       "1457         Lvl    AllPub  ...        0    NaN  GdPrv        Shed    2500   \n",
       "1458         Lvl    AllPub  ...        0    NaN    NaN         NaN       0   \n",
       "1459         Lvl    AllPub  ...        0    NaN    NaN         NaN       0   \n",
       "\n",
       "     MoSold YrSold  SaleType  SaleCondition  SalePrice  \n",
       "0         2   2008        WD         Normal     208500  \n",
       "1         5   2007        WD         Normal     181500  \n",
       "2         9   2008        WD         Normal     223500  \n",
       "3         2   2006        WD        Abnorml     140000  \n",
       "4        12   2008        WD         Normal     250000  \n",
       "...     ...    ...       ...            ...        ...  \n",
       "1455      8   2007        WD         Normal     175000  \n",
       "1456      2   2010        WD         Normal     210000  \n",
       "1457      5   2010        WD         Normal     266500  \n",
       "1458      4   2010        WD         Normal     142125  \n",
       "1459      6   2008        WD         Normal     147500  \n",
       "\n",
       "[1460 rows x 81 columns]"
      ]
     },
     "execution_count": 9,
     "metadata": {},
     "output_type": "execute_result"
    }
   ],
   "source": [
    "home_data"
   ]
  },
  {
   "cell_type": "markdown",
   "id": "35d934f9",
   "metadata": {},
   "source": [
    "We can find out some details of this dataset pretty quickly, for example:"
   ]
  },
  {
   "cell_type": "code",
   "execution_count": 10,
   "id": "597112db",
   "metadata": {},
   "outputs": [
    {
     "name": "stdout",
     "output_type": "stream",
     "text": [
      "> Average lot area: 10517.0\n",
      "> Newest home age in years: 12.0\n"
     ]
    }
   ],
   "source": [
    "# What is the average lot size (rounded to nearest integer)?\n",
    "avg_lot_size = home_data.describe()['LotArea']['mean'].round()\n",
    "print(f'> Average lot area: {avg_lot_size}')\n",
    "\n",
    "# As of today, how old is the newest home (current year - the date in which it was built)\n",
    "newest_home_age = 2022 - home_data.describe()['YearBuilt']['max']\n",
    "print(f'> Newest home age in years: {newest_home_age}')"
   ]
  },
  {
   "cell_type": "markdown",
   "id": "ba6a8828",
   "metadata": {},
   "source": [
    "## 4 Simple Model Building"
   ]
  },
  {
   "cell_type": "markdown",
   "id": "f2dcb823",
   "metadata": {},
   "source": [
    "### 4.1 Data Selection"
   ]
  },
  {
   "cell_type": "markdown",
   "id": "b6b6807a",
   "metadata": {},
   "source": [
    "Since we want to predict prices, the column we want to predict is the `SalePrice`. This is called the **prediction target**, and is usually denoted with a `y`:"
   ]
  },
  {
   "cell_type": "code",
   "execution_count": 11,
   "id": "84dbf121",
   "metadata": {},
   "outputs": [
    {
     "data": {
      "text/plain": [
       "0       208500\n",
       "1       181500\n",
       "2       223500\n",
       "3       140000\n",
       "4       250000\n",
       "         ...  \n",
       "1455    175000\n",
       "1456    210000\n",
       "1457    266500\n",
       "1458    142125\n",
       "1459    147500\n",
       "Name: SalePrice, Length: 1460, dtype: int64"
      ]
     },
     "execution_count": 11,
     "metadata": {},
     "output_type": "execute_result"
    }
   ],
   "source": [
    "y = home_data.SalePrice\n",
    "y"
   ]
  },
  {
   "cell_type": "markdown",
   "id": "c9d3b2d9",
   "metadata": {},
   "source": [
    "As we saw above, there are a lot of **variables** (columns) we can take into account when constructing our model. Some of this data might not actually be useful, as certain variables will not actually affect the housing price (this is common, we need to comb through our data to discern what is useful and what isn't). In the future we will explore methods to automatically prioritise certain variables, but for now, we will use intuition and manual selection (only selecting a small number for simplicity).\n",
    "\n",
    "To choose which to prioritise, we first want to look at each column:"
   ]
  },
  {
   "cell_type": "code",
   "execution_count": 12,
   "id": "3a420f6e",
   "metadata": {},
   "outputs": [
    {
     "data": {
      "text/plain": [
       "Index(['Id', 'MSSubClass', 'MSZoning', 'LotFrontage', 'LotArea', 'Street',\n",
       "       'Alley', 'LotShape', 'LandContour', 'Utilities', 'LotConfig',\n",
       "       'LandSlope', 'Neighborhood', 'Condition1', 'Condition2', 'BldgType',\n",
       "       'HouseStyle', 'OverallQual', 'OverallCond', 'YearBuilt', 'YearRemodAdd',\n",
       "       'RoofStyle', 'RoofMatl', 'Exterior1st', 'Exterior2nd', 'MasVnrType',\n",
       "       'MasVnrArea', 'ExterQual', 'ExterCond', 'Foundation', 'BsmtQual',\n",
       "       'BsmtCond', 'BsmtExposure', 'BsmtFinType1', 'BsmtFinSF1',\n",
       "       'BsmtFinType2', 'BsmtFinSF2', 'BsmtUnfSF', 'TotalBsmtSF', 'Heating',\n",
       "       'HeatingQC', 'CentralAir', 'Electrical', '1stFlrSF', '2ndFlrSF',\n",
       "       'LowQualFinSF', 'GrLivArea', 'BsmtFullBath', 'BsmtHalfBath', 'FullBath',\n",
       "       'HalfBath', 'BedroomAbvGr', 'KitchenAbvGr', 'KitchenQual',\n",
       "       'TotRmsAbvGrd', 'Functional', 'Fireplaces', 'FireplaceQu', 'GarageType',\n",
       "       'GarageYrBlt', 'GarageFinish', 'GarageCars', 'GarageArea', 'GarageQual',\n",
       "       'GarageCond', 'PavedDrive', 'WoodDeckSF', 'OpenPorchSF',\n",
       "       'EnclosedPorch', '3SsnPorch', 'ScreenPorch', 'PoolArea', 'PoolQC',\n",
       "       'Fence', 'MiscFeature', 'MiscVal', 'MoSold', 'YrSold', 'SaleType',\n",
       "       'SaleCondition', 'SalePrice'],\n",
       "      dtype='object')"
      ]
     },
     "execution_count": 12,
     "metadata": {},
     "output_type": "execute_result"
    }
   ],
   "source": [
    "# print the list of columns in the dataset to find the name of the prediction target\n",
    "home_data.columns"
   ]
  },
  {
   "cell_type": "markdown",
   "id": "b07a918a",
   "metadata": {},
   "source": [
    "We can select a few above manually, it is obvious that the `LotArea` and the `YearBuilt` and more parameters will affect the price. The columns / variables we select - that are used to make predictions - are called **features**. We then select the data containing these columns, the **training data**, often denoted by an `X`:"
   ]
  },
  {
   "cell_type": "code",
   "execution_count": 13,
   "id": "fa167a3d",
   "metadata": {},
   "outputs": [
    {
     "name": "stdout",
     "output_type": "stream",
     "text": [
      "Description:\n"
     ]
    },
    {
     "data": {
      "text/html": [
       "<div>\n",
       "<style scoped>\n",
       "    .dataframe tbody tr th:only-of-type {\n",
       "        vertical-align: middle;\n",
       "    }\n",
       "\n",
       "    .dataframe tbody tr th {\n",
       "        vertical-align: top;\n",
       "    }\n",
       "\n",
       "    .dataframe thead th {\n",
       "        text-align: right;\n",
       "    }\n",
       "</style>\n",
       "<table border=\"1\" class=\"dataframe\">\n",
       "  <thead>\n",
       "    <tr style=\"text-align: right;\">\n",
       "      <th></th>\n",
       "      <th>LotArea</th>\n",
       "      <th>YearBuilt</th>\n",
       "      <th>1stFlrSF</th>\n",
       "      <th>2ndFlrSF</th>\n",
       "      <th>FullBath</th>\n",
       "      <th>BedroomAbvGr</th>\n",
       "      <th>TotRmsAbvGrd</th>\n",
       "    </tr>\n",
       "  </thead>\n",
       "  <tbody>\n",
       "    <tr>\n",
       "      <th>count</th>\n",
       "      <td>1460.000000</td>\n",
       "      <td>1460.000000</td>\n",
       "      <td>1460.000000</td>\n",
       "      <td>1460.000000</td>\n",
       "      <td>1460.000000</td>\n",
       "      <td>1460.000000</td>\n",
       "      <td>1460.000000</td>\n",
       "    </tr>\n",
       "    <tr>\n",
       "      <th>mean</th>\n",
       "      <td>10516.828082</td>\n",
       "      <td>1971.267808</td>\n",
       "      <td>1162.626712</td>\n",
       "      <td>346.992466</td>\n",
       "      <td>1.565068</td>\n",
       "      <td>2.866438</td>\n",
       "      <td>6.517808</td>\n",
       "    </tr>\n",
       "    <tr>\n",
       "      <th>std</th>\n",
       "      <td>9981.264932</td>\n",
       "      <td>30.202904</td>\n",
       "      <td>386.587738</td>\n",
       "      <td>436.528436</td>\n",
       "      <td>0.550916</td>\n",
       "      <td>0.815778</td>\n",
       "      <td>1.625393</td>\n",
       "    </tr>\n",
       "    <tr>\n",
       "      <th>min</th>\n",
       "      <td>1300.000000</td>\n",
       "      <td>1872.000000</td>\n",
       "      <td>334.000000</td>\n",
       "      <td>0.000000</td>\n",
       "      <td>0.000000</td>\n",
       "      <td>0.000000</td>\n",
       "      <td>2.000000</td>\n",
       "    </tr>\n",
       "    <tr>\n",
       "      <th>25%</th>\n",
       "      <td>7553.500000</td>\n",
       "      <td>1954.000000</td>\n",
       "      <td>882.000000</td>\n",
       "      <td>0.000000</td>\n",
       "      <td>1.000000</td>\n",
       "      <td>2.000000</td>\n",
       "      <td>5.000000</td>\n",
       "    </tr>\n",
       "    <tr>\n",
       "      <th>50%</th>\n",
       "      <td>9478.500000</td>\n",
       "      <td>1973.000000</td>\n",
       "      <td>1087.000000</td>\n",
       "      <td>0.000000</td>\n",
       "      <td>2.000000</td>\n",
       "      <td>3.000000</td>\n",
       "      <td>6.000000</td>\n",
       "    </tr>\n",
       "    <tr>\n",
       "      <th>75%</th>\n",
       "      <td>11601.500000</td>\n",
       "      <td>2000.000000</td>\n",
       "      <td>1391.250000</td>\n",
       "      <td>728.000000</td>\n",
       "      <td>2.000000</td>\n",
       "      <td>3.000000</td>\n",
       "      <td>7.000000</td>\n",
       "    </tr>\n",
       "    <tr>\n",
       "      <th>max</th>\n",
       "      <td>215245.000000</td>\n",
       "      <td>2010.000000</td>\n",
       "      <td>4692.000000</td>\n",
       "      <td>2065.000000</td>\n",
       "      <td>3.000000</td>\n",
       "      <td>8.000000</td>\n",
       "      <td>14.000000</td>\n",
       "    </tr>\n",
       "  </tbody>\n",
       "</table>\n",
       "</div>"
      ],
      "text/plain": [
       "             LotArea    YearBuilt     1stFlrSF     2ndFlrSF     FullBath  \\\n",
       "count    1460.000000  1460.000000  1460.000000  1460.000000  1460.000000   \n",
       "mean    10516.828082  1971.267808  1162.626712   346.992466     1.565068   \n",
       "std      9981.264932    30.202904   386.587738   436.528436     0.550916   \n",
       "min      1300.000000  1872.000000   334.000000     0.000000     0.000000   \n",
       "25%      7553.500000  1954.000000   882.000000     0.000000     1.000000   \n",
       "50%      9478.500000  1973.000000  1087.000000     0.000000     2.000000   \n",
       "75%     11601.500000  2000.000000  1391.250000   728.000000     2.000000   \n",
       "max    215245.000000  2010.000000  4692.000000  2065.000000     3.000000   \n",
       "\n",
       "       BedroomAbvGr  TotRmsAbvGrd  \n",
       "count   1460.000000   1460.000000  \n",
       "mean       2.866438      6.517808  \n",
       "std        0.815778      1.625393  \n",
       "min        0.000000      2.000000  \n",
       "25%        2.000000      5.000000  \n",
       "50%        3.000000      6.000000  \n",
       "75%        3.000000      7.000000  \n",
       "max        8.000000     14.000000  "
      ]
     },
     "metadata": {},
     "output_type": "display_data"
    },
    {
     "name": "stdout",
     "output_type": "stream",
     "text": [
      "Head:\n"
     ]
    },
    {
     "data": {
      "text/html": [
       "<div>\n",
       "<style scoped>\n",
       "    .dataframe tbody tr th:only-of-type {\n",
       "        vertical-align: middle;\n",
       "    }\n",
       "\n",
       "    .dataframe tbody tr th {\n",
       "        vertical-align: top;\n",
       "    }\n",
       "\n",
       "    .dataframe thead th {\n",
       "        text-align: right;\n",
       "    }\n",
       "</style>\n",
       "<table border=\"1\" class=\"dataframe\">\n",
       "  <thead>\n",
       "    <tr style=\"text-align: right;\">\n",
       "      <th></th>\n",
       "      <th>LotArea</th>\n",
       "      <th>YearBuilt</th>\n",
       "      <th>1stFlrSF</th>\n",
       "      <th>2ndFlrSF</th>\n",
       "      <th>FullBath</th>\n",
       "      <th>BedroomAbvGr</th>\n",
       "      <th>TotRmsAbvGrd</th>\n",
       "    </tr>\n",
       "  </thead>\n",
       "  <tbody>\n",
       "    <tr>\n",
       "      <th>0</th>\n",
       "      <td>8450</td>\n",
       "      <td>2003</td>\n",
       "      <td>856</td>\n",
       "      <td>854</td>\n",
       "      <td>2</td>\n",
       "      <td>3</td>\n",
       "      <td>8</td>\n",
       "    </tr>\n",
       "    <tr>\n",
       "      <th>1</th>\n",
       "      <td>9600</td>\n",
       "      <td>1976</td>\n",
       "      <td>1262</td>\n",
       "      <td>0</td>\n",
       "      <td>2</td>\n",
       "      <td>3</td>\n",
       "      <td>6</td>\n",
       "    </tr>\n",
       "    <tr>\n",
       "      <th>2</th>\n",
       "      <td>11250</td>\n",
       "      <td>2001</td>\n",
       "      <td>920</td>\n",
       "      <td>866</td>\n",
       "      <td>2</td>\n",
       "      <td>3</td>\n",
       "      <td>6</td>\n",
       "    </tr>\n",
       "    <tr>\n",
       "      <th>3</th>\n",
       "      <td>9550</td>\n",
       "      <td>1915</td>\n",
       "      <td>961</td>\n",
       "      <td>756</td>\n",
       "      <td>1</td>\n",
       "      <td>3</td>\n",
       "      <td>7</td>\n",
       "    </tr>\n",
       "    <tr>\n",
       "      <th>4</th>\n",
       "      <td>14260</td>\n",
       "      <td>2000</td>\n",
       "      <td>1145</td>\n",
       "      <td>1053</td>\n",
       "      <td>2</td>\n",
       "      <td>4</td>\n",
       "      <td>9</td>\n",
       "    </tr>\n",
       "  </tbody>\n",
       "</table>\n",
       "</div>"
      ],
      "text/plain": [
       "   LotArea  YearBuilt  1stFlrSF  2ndFlrSF  FullBath  BedroomAbvGr  \\\n",
       "0     8450       2003       856       854         2             3   \n",
       "1     9600       1976      1262         0         2             3   \n",
       "2    11250       2001       920       866         2             3   \n",
       "3     9550       1915       961       756         1             3   \n",
       "4    14260       2000      1145      1053         2             4   \n",
       "\n",
       "   TotRmsAbvGrd  \n",
       "0             8  \n",
       "1             6  \n",
       "2             6  \n",
       "3             7  \n",
       "4             9  "
      ]
     },
     "metadata": {},
     "output_type": "display_data"
    }
   ],
   "source": [
    "# Create the list of features below\n",
    "feature_names = ['LotArea', 'YearBuilt', '1stFlrSF', '2ndFlrSF', 'FullBath', 'BedroomAbvGr', 'TotRmsAbvGrd']\n",
    "\n",
    "# Select data corresponding to features in feature_names\n",
    "X = home_data[feature_names]\n",
    "\n",
    "# print description or statistics from X\n",
    "print('Description:')\n",
    "display(X.describe())\n",
    "\n",
    "# print the top few lines\n",
    "print('Head:')\n",
    "display(X.head())"
   ]
  },
  {
   "cell_type": "markdown",
   "id": "b8a5277f",
   "metadata": {},
   "source": [
    "### 4.2 Model Fitting and Predicting"
   ]
  },
  {
   "cell_type": "markdown",
   "id": "c9d789e4",
   "metadata": {},
   "source": [
    "The steps to building and using a model are:\n",
    "\n",
    "- **Define:** What type of model will it be? A decision tree? Some other type of model? Some other parameters of the model type are specified too.\n",
    "- **Fit:** Capture patterns from provided data. This is the heart of modeling.\n",
    "- **Predict:** Just what it sounds like\n",
    "- **Evaluate:** Determine how accurate the model's predictions are.\n",
    "\n",
    "We will create a Decision Tree model with scikit-learn. In particular, we will use a `DecisionTreeRegressor`. To get reproducable results, we will use the above defined `seed`. We can define, fit, and predict in the following:"
   ]
  },
  {
   "cell_type": "code",
   "execution_count": 14,
   "id": "55a966a6",
   "metadata": {},
   "outputs": [
    {
     "name": "stdout",
     "output_type": "stream",
     "text": [
      "The predicted values:\n"
     ]
    },
    {
     "data": {
      "text/plain": [
       "array([208500., 181500., 223500., ..., 266500., 142125., 147500.])"
      ]
     },
     "metadata": {},
     "output_type": "display_data"
    }
   ],
   "source": [
    "from sklearn.tree import DecisionTreeRegressor\n",
    "\n",
    "#For model reproducibility, set a numeric value for random_state when specifying the model\n",
    "iowa_model = DecisionTreeRegressor(random_state=seed)\n",
    "\n",
    "# Fit the model\n",
    "iowa_model.fit(X, y)\n",
    "\n",
    "# create a prediction on our training data (not typically advised, see next section)\n",
    "predictions = iowa_model.predict(X)\n",
    "print('The predicted values:')\n",
    "display(predictions)"
   ]
  },
  {
   "cell_type": "markdown",
   "id": "a31ef4f8",
   "metadata": {},
   "source": [
    "Since we tried to predict the training data we get the same values, this is not good practice (leads to **overfitting**):"
   ]
  },
  {
   "cell_type": "code",
   "execution_count": 15,
   "id": "84f2886a",
   "metadata": {},
   "outputs": [
    {
     "name": "stdout",
     "output_type": "stream",
     "text": [
      "The predicted data:\n",
      "[208500. 181500. 223500. 140000. 250000.]\n",
      "The actual data:\n",
      "[208500. 181500. 223500. 140000. 250000.]\n"
     ]
    }
   ],
   "source": [
    "# look at our predictions\n",
    "print('The predicted data:')\n",
    "print(predictions[:5])\n",
    "\n",
    "# look at the actual data\n",
    "print('The actual data:')\n",
    "print(y.to_numpy(dtype='float64')[:5])"
   ]
  },
  {
   "cell_type": "markdown",
   "id": "97e59b13",
   "metadata": {},
   "source": [
    "## 5 Model Validation"
   ]
  },
  {
   "cell_type": "markdown",
   "id": "d1429682",
   "metadata": {},
   "source": [
    "So now we have built a model, but how good is it? How do we determine the quality of our model?\n",
    "\n",
    "In most applications, we determine the quality by comparing the models predictive accuracy (whether its predictions are accurate to reality). We measure our predictive accuracy using the **testing data**, **NOT** the training data. This is because the model can just \"read off\" the answers, per say.\n",
    "\n",
    "There are many ways to summarise model quality, we will look at **Mean Absolute Error** (MAE). Let's take it piece by piece, the error is given by:\n",
    "\n",
    "$$ \\mathrm{error} = \\mathrm{actual} - \\mathrm{predicted} $$\n",
    "\n",
    "For example: if the predicted price is $\\$100$, and the actual price is $\\$127$, the error is: $\\$127 - \\$100 = \\$27$. The absolute value of this is taken so that all values are positive, and the average of these absolute errors is then calculated. Thus our measure of model quality can be said in plain English:\n",
    "\n",
    "> On average, our predictions are off by about $\\mathrm{MAE}$\n",
    "\n",
    "We use the `mean_absolute_error` function from `sklearn.metrics` in order to do so. We can use the model created above to demonstrate this. \n",
    "\n",
    "*Note: For demonstration purposes, we are using the training data here to measure the MAE, as stated before, this is incorrect in practical use.*"
   ]
  },
  {
   "cell_type": "code",
   "execution_count": 16,
   "id": "2ea8438c",
   "metadata": {},
   "outputs": [
    {
     "data": {
      "text/plain": [
       "62.35433789954339"
      ]
     },
     "execution_count": 16,
     "metadata": {},
     "output_type": "execute_result"
    }
   ],
   "source": [
    "from sklearn.metrics import mean_absolute_error\n",
    "\n",
    "# use the actual values (y) and the predicted values (predictions) found earlier\n",
    "mean_absolute_error(y, predictions)"
   ]
  },
  {
   "cell_type": "markdown",
   "id": "fdfe847f",
   "metadata": {},
   "source": [
    "### 5.1 Testing / Validation Data"
   ]
  },
  {
   "cell_type": "markdown",
   "id": "ae6ac741",
   "metadata": {},
   "source": [
    "To demonstrate why we need testing data (**validation data**), consider the below example:\n",
    "\n",
    ">Imagine that, in the large real estate market, *door color is unrelated to home price*.\n",
    ">\n",
    ">However, in the *sample of data* you used to build the model, *all homes with green doors happened to be very expensive*. The model's job is to find patterns that predict home prices, so it will see this pattern, and it will always predict high prices for homes with green doors.\n",
    ">\n",
    ">Since this pattern was derived from the training data, the model will appear accurate in the training data. However, this is *not true in reality*, so the model will *perform poorly on new data it hasn't seen before*.\n",
    "\n",
    "So a commonly used method is to split the available training data into two parts; one part is for training, the other is for testing (validating). We use the `train_test_split` function from `sklearn.model_selection` in order to do so. This splits the training data ($X$) and the prediction targets ($y$) into two parts, the size of which determined by a random number generator (which we apply the `seed` to):"
   ]
  },
  {
   "cell_type": "code",
   "execution_count": 17,
   "id": "0073778d",
   "metadata": {},
   "outputs": [
    {
     "data": {
      "text/plain": [
       "32966.449315068494"
      ]
     },
     "execution_count": 17,
     "metadata": {},
     "output_type": "execute_result"
    }
   ],
   "source": [
    "from sklearn.model_selection import train_test_split\n",
    "\n",
    "# split data into training and validation data, for both features and target\n",
    "# The split is based on a random number generator. Supplying a numeric value to\n",
    "# the random_state argument guarantees we get the same split every time we\n",
    "# run this script.\n",
    "train_X, val_X, train_y, val_y = train_test_split(X, y, random_state=0)\n",
    "\n",
    "# redefine our model using this training data\n",
    "iowa_model = DecisionTreeRegressor(random_state=seed)\n",
    "\n",
    "# Fit the model\n",
    "iowa_model.fit(train_X, train_y)\n",
    "\n",
    "# use the testing data for predictions\n",
    "val_predictions = iowa_model.predict(val_X)\n",
    "# use the testing data to get the mae\n",
    "mean_absolute_error(val_y, val_predictions)"
   ]
  },
  {
   "cell_type": "markdown",
   "id": "9e681ab7",
   "metadata": {},
   "source": [
    "Now the $\\mathrm{MAE}$ found is much higher, and more indicative of the predictive accuracy of this primitive model."
   ]
  },
  {
   "cell_type": "markdown",
   "id": "c608da83",
   "metadata": {},
   "source": [
    "## 6 Underfitting and Overfitting"
   ]
  },
  {
   "cell_type": "markdown",
   "id": "7c5dec40",
   "metadata": {},
   "source": [
    "To demonstrate these phenomena, let us look at what happens when we try to expand our model. Now that we have a way to measure model accuracy, we can experiment with different parameters to find the optimal settings. From the `DecisionTreeRegressor` [documentation](https://scikit-learn.org/stable/modules/generated/sklearn.tree.DecisionTreeRegressor.html), one of our available parameters to vary is the **tree depth**. This is a measure of how many splits (layers) the tree makes before coming to a prediction (leaf). [Figure 2](#Figure-2) is a tree with two layers, and is a relatively shallow tree. Each split leads to two more branches to be split (each successive layer has twice as many nodes as the previous). Thus, for a tree of $10$ layers, we have $2^{10} = 1024$ leaves.\n",
    "\n",
    "If we have too many leaves (large tree depth), the sample data per leaf is small. This may test well in training as the model has essentially \"read off\" the answers again. However, as soon as new data is given, it does not know what to do with it as it has not learned any useful patterns. This is called **overfitting**, where a model matches the training data almost perfectly, but does poorly in validation and other new data.\n",
    "\n",
    "Going the other extreme, if we make our tree very shallow, it doesn't divide up the data into very distinct groups. This is because the model fails to capture important patterns in the data since it is limited. This is called **underfitting**, where a model can perform poorly in both training and validation.\n",
    "\n",
    "Thus, we want to find the sweet spot between underfitting and overfitting."
   ]
  },
  {
   "cell_type": "markdown",
   "id": "f7033234",
   "metadata": {},
   "source": [
    "### 6.1 Finding optimal parameters"
   ]
  },
  {
   "cell_type": "markdown",
   "id": "62adcb89",
   "metadata": {},
   "source": [
    "Let us try to optimise our $\\mathrm{MAE}$ using tree depth. There are a few ways to control the tree depth of a model, but we will limit the maximum number of leaves allowed in this approach. The `max_leaf_nodes` argument allows us to do so, as this number increases, we move from underfitting to overfitting. The goal is test to many different values of this parameter to determine the optimal value for this problem.\n",
    "\n",
    "To speed up the mean absolute error calculation, we can create a function to do so for a given value of `max_leaf_nodes`:"
   ]
  },
  {
   "cell_type": "code",
   "execution_count": 18,
   "id": "27eb13d2",
   "metadata": {},
   "outputs": [],
   "source": [
    "def get_mae(max_leaf_nodes, train_X, val_X, train_y, val_y):\n",
    "    model = DecisionTreeRegressor(max_leaf_nodes=max_leaf_nodes, random_state=seed)\n",
    "    model.fit(train_X, train_y)\n",
    "    preds_val = model.predict(val_X)\n",
    "    mae = mean_absolute_error(val_y, preds_val)\n",
    "    return mae"
   ]
  },
  {
   "cell_type": "markdown",
   "id": "ba800a44",
   "metadata": {},
   "source": [
    "We can use the training and validation data found before. We will loop over many values of `max_leaf_nodes` and compare the $\\mathrm{MAE}$ of each:"
   ]
  },
  {
   "cell_type": "code",
   "execution_count": 19,
   "id": "7bbdec95",
   "metadata": {},
   "outputs": [
    {
     "name": "stdout",
     "output_type": "stream",
     "text": [
      "The lowest MAE was found to be 27280.23209035945, for an optimal max_leaf_nodes=80.\n"
     ]
    },
    {
     "data": {
      "text/plain": [
       "Text(0.5, 1.0, 'MAE of Validation Data for varying maximum leaves')"
      ]
     },
     "execution_count": 19,
     "metadata": {},
     "output_type": "execute_result"
    },
    {
     "data": {
      "image/png": "[encoded data removed]",
      "text/plain": [
       "<Figure size 800x600 with 1 Axes>"
      ]
     },
     "metadata": {},
     "output_type": "display_data"
    }
   ],
   "source": [
    "# get initial guess\n",
    "best_leaf_nodes = 2\n",
    "old = get_mae(best_leaf_nodes, train_X, val_X, train_y, val_y)\n",
    "\n",
    "# store the nodes and mae found for plotting\n",
    "leafs = [best_leaf_nodes]\n",
    "maes = [old]\n",
    "\n",
    "for max_leaf_nodes in range(5, 500, 5):\n",
    "    # get new estimate of MAE\n",
    "    new = get_mae(max_leaf_nodes, train_X, val_X, train_y, val_y)\n",
    "    \n",
    "    # if new MAE is better than old MAE\n",
    "    # update old and best estimate\n",
    "    if new < old:\n",
    "        old = new\n",
    "        best_leaf_nodes = max_leaf_nodes\n",
    "    \n",
    "    # store for plotting\n",
    "    leafs.append(max_leaf_nodes)\n",
    "    maes.append(new)\n",
    "\n",
    "# optimal\n",
    "print(f'The lowest MAE was found to be {old}, for an optimal max_leaf_nodes={best_leaf_nodes}.')\n",
    "\n",
    "# plotting\n",
    "plt.axvline(best_leaf_nodes, color='r', ls='--', lw=1.5)\n",
    "plt.plot(leafs, maes)\n",
    "plt.xlabel('max_leaf_nodes')\n",
    "plt.ylabel('MAE')\n",
    "plt.title('MAE of Validation Data for varying maximum leaves')"
   ]
  },
  {
   "cell_type": "markdown",
   "id": "e6c85005",
   "metadata": {},
   "source": [
    "To the left of the above figure, we have underfitting. To the right, overfitting. The red dotted line is the minimum $\\mathrm{MAE}$.\n",
    "\n",
    "In summary:\n",
    "\n",
    "- **Overfitting:** capturing irrelevant patterns that won't recur in the future.\n",
    "- **Underfitting:** failing to capture relevant patterns."
   ]
  },
  {
   "cell_type": "markdown",
   "id": "b9450171",
   "metadata": {},
   "source": [
    "## 7 Random Forests"
   ]
  },
  {
   "cell_type": "markdown",
   "id": "bf33c2ec",
   "metadata": {},
   "source": [
    "Let us look at another model type. The **random forest** uses many trees, and makes a prediction by averaging the prediction of each of its components trees. This allows random forests to correct for decision trees' habit of overfitting to their training set.\n",
    "\n",
    "We build one [using](https://scikit-learn.org/stable/modules/generated/sklearn.ensemble.RandomForestRegressor.html) the `RandomForestRegressor` from `sklearn.ensemble`, in a similar way to the `DecisionTreeRegressor`:"
   ]
  },
  {
   "cell_type": "code",
   "execution_count": 20,
   "id": "39ea08c2",
   "metadata": {},
   "outputs": [
    {
     "data": {
      "text/plain": [
       "23009.206570906717"
      ]
     },
     "execution_count": 20,
     "metadata": {},
     "output_type": "execute_result"
    }
   ],
   "source": [
    "from sklearn.ensemble import RandomForestRegressor\n",
    "\n",
    "# create random forest\n",
    "forest_model = RandomForestRegressor(random_state=1)\n",
    "\n",
    "# fit model\n",
    "forest_model.fit(train_X, train_y)\n",
    "\n",
    "# get predictions\n",
    "forest_preds = forest_model.predict(val_X)\n",
    "\n",
    "# get mae\n",
    "mean_absolute_error(val_y, forest_preds)"
   ]
  },
  {
   "cell_type": "markdown",
   "id": "31b99c56",
   "metadata": {},
   "source": [
    "We can see that already, it outperforms our best Decision Tree so far. Of course, there are better models to use and further improvement on this model can be done by varying parameters."
   ]
  },
  {
   "cell_type": "markdown",
   "id": "a40e8f4f",
   "metadata": {},
   "source": [
    "## 8 Putting it all together"
   ]
  },
  {
   "cell_type": "markdown",
   "id": "ae1dec7e",
   "metadata": {},
   "source": [
    "Using what we have learned, let us now try to optimise a model to predict the housing prices on a test dataset. The training will still be performed using `Assets\\iowa_data.csv`, however testing will be done using `Assets\\housingprices_test.csv`. This data can be found in the [Housing Prices Competition for Kaggle Learn Users](https://www.kaggle.com/competitions/home-data-for-ml-course/data). We will then prepare the predictions to be able to be submitted to this competition.\n",
    "\n",
    "We will look to find the optimal number of trees `n_estimators` and the optimal max number of leaves `max_leaf_nodes` to use for our random forest:\n",
    "\n",
    "*Note: This can be made much faster using many different methods, this works though.*"
   ]
  },
  {
   "cell_type": "code",
   "execution_count": 21,
   "id": "a24fe5ae",
   "metadata": {},
   "outputs": [
    {
     "name": "stdout",
     "output_type": "stream",
     "text": [
      "The lowest MAE was found to be 22549.67837062073, for an optimal n_estimators=240 and max_leaf_nodes=75.\n"
     ]
    }
   ],
   "source": [
    "# training and testing data for optimal checking\n",
    "train_X, val_X, train_y, val_y = train_test_split(X, y, random_state=0)\n",
    "\n",
    "# function to get mae for changing n_estimators and max_leaf_nodes\n",
    "def get_mae(n_estimators, max_leaf_nodes, train_X, val_X, train_y, val_y):\n",
    "    model = RandomForestRegressor(n_estimators=n_estimators, max_leaf_nodes=max_leaf_nodes, random_state=seed)\n",
    "    model.fit(train_X, train_y)\n",
    "    preds_val = model.predict(val_X)\n",
    "    mae = mean_absolute_error(val_y, preds_val)\n",
    "    return mae\n",
    "\n",
    "# get initial guess\n",
    "best_leaf_nodes = 50\n",
    "best_estimators = 50\n",
    "old = get_mae(best_estimators, best_leaf_nodes, train_X, val_X, train_y, val_y)\n",
    "\n",
    "# get optimal n_estimators first\n",
    "for n_estimators in range(50, 250, 5):\n",
    "    # get new estimate of MAE\n",
    "    new = get_mae(n_estimators, best_leaf_nodes, train_X, val_X, train_y, val_y)\n",
    "    \n",
    "    # if new MAE is better than old MAE\n",
    "    # update old and best estimate\n",
    "    if new < old:\n",
    "        old = new\n",
    "        best_estimators = n_estimators\n",
    "\n",
    "# now optimal max_leaf_nodes\n",
    "for max_leaf_nodes in range(50, 250, 5):\n",
    "    # get new estimate of MAE\n",
    "    new = get_mae(best_estimators, max_leaf_nodes, train_X, val_X, train_y, val_y)\n",
    "    \n",
    "    # if new MAE is better than old MAE\n",
    "    # update old and best estimate\n",
    "    if new < old:\n",
    "        old = new\n",
    "        best_leaf_nodes = max_leaf_nodes\n",
    "\n",
    "# so now get the optimal mae using both\n",
    "old = get_mae(best_estimators, best_leaf_nodes, train_X, val_X, train_y, val_y)\n",
    "\n",
    "# optimal\n",
    "print(f'The lowest MAE was found to be {old}, for an optimal n_estimators={best_estimators} and max_leaf_nodes={best_leaf_nodes}.')"
   ]
  },
  {
   "cell_type": "markdown",
   "id": "b640879a",
   "metadata": {},
   "source": [
    "Since we have testing data set aside already, we will train on the full set of training data using our optimal parameters, then test:"
   ]
  },
  {
   "cell_type": "code",
   "execution_count": 22,
   "id": "6acd9491",
   "metadata": {},
   "outputs": [
    {
     "data": {
      "text/plain": [
       "array([126944.85867157, 157133.4534853 , 180149.70249381, ...,\n",
       "       157427.12202283, 143536.26744617, 232892.9902494 ])"
      ]
     },
     "execution_count": 22,
     "metadata": {},
     "output_type": "execute_result"
    }
   ],
   "source": [
    "# create training data\n",
    "train_X, train_y = X, y  # already defined\n",
    "\n",
    "# create testing data\n",
    "test_data = pd.read_csv('Assets/housingprices_test.csv')\n",
    "val_X = test_data[feature_names]\n",
    "\n",
    "# create model\n",
    "model = RandomForestRegressor(n_estimators=best_estimators, max_leaf_nodes=best_leaf_nodes, random_state=seed)\n",
    "\n",
    "# fit model\n",
    "model.fit(train_X, train_y)\n",
    "\n",
    "# get predictions from testing data\n",
    "preds_val = model.predict(val_X)\n",
    "preds_val"
   ]
  },
  {
   "cell_type": "markdown",
   "id": "83f380f3",
   "metadata": {},
   "source": [
    "Now we save this into a format that can be submitted to the [competition](https://www.kaggle.com/competitions/home-data-for-ml-course):"
   ]
  },
  {
   "cell_type": "code",
   "execution_count": 23,
   "id": "49b8658e",
   "metadata": {},
   "outputs": [
    {
     "data": {
      "text/html": [
       "<div>\n",
       "<style scoped>\n",
       "    .dataframe tbody tr th:only-of-type {\n",
       "        vertical-align: middle;\n",
       "    }\n",
       "\n",
       "    .dataframe tbody tr th {\n",
       "        vertical-align: top;\n",
       "    }\n",
       "\n",
       "    .dataframe thead th {\n",
       "        text-align: right;\n",
       "    }\n",
       "</style>\n",
       "<table border=\"1\" class=\"dataframe\">\n",
       "  <thead>\n",
       "    <tr style=\"text-align: right;\">\n",
       "      <th></th>\n",
       "      <th>Id</th>\n",
       "      <th>SalePrice</th>\n",
       "    </tr>\n",
       "  </thead>\n",
       "  <tbody>\n",
       "    <tr>\n",
       "      <th>0</th>\n",
       "      <td>1461</td>\n",
       "      <td>126944.858672</td>\n",
       "    </tr>\n",
       "    <tr>\n",
       "      <th>1</th>\n",
       "      <td>1462</td>\n",
       "      <td>157133.453485</td>\n",
       "    </tr>\n",
       "    <tr>\n",
       "      <th>2</th>\n",
       "      <td>1463</td>\n",
       "      <td>180149.702494</td>\n",
       "    </tr>\n",
       "    <tr>\n",
       "      <th>3</th>\n",
       "      <td>1464</td>\n",
       "      <td>180119.553545</td>\n",
       "    </tr>\n",
       "    <tr>\n",
       "      <th>4</th>\n",
       "      <td>1465</td>\n",
       "      <td>188188.262191</td>\n",
       "    </tr>\n",
       "    <tr>\n",
       "      <th>...</th>\n",
       "      <td>...</td>\n",
       "      <td>...</td>\n",
       "    </tr>\n",
       "    <tr>\n",
       "      <th>1454</th>\n",
       "      <td>2915</td>\n",
       "      <td>97611.571509</td>\n",
       "    </tr>\n",
       "    <tr>\n",
       "      <th>1455</th>\n",
       "      <td>2916</td>\n",
       "      <td>97705.381613</td>\n",
       "    </tr>\n",
       "    <tr>\n",
       "      <th>1456</th>\n",
       "      <td>2917</td>\n",
       "      <td>157427.122023</td>\n",
       "    </tr>\n",
       "    <tr>\n",
       "      <th>1457</th>\n",
       "      <td>2918</td>\n",
       "      <td>143536.267446</td>\n",
       "    </tr>\n",
       "    <tr>\n",
       "      <th>1458</th>\n",
       "      <td>2919</td>\n",
       "      <td>232892.990249</td>\n",
       "    </tr>\n",
       "  </tbody>\n",
       "</table>\n",
       "<p>1459 rows × 2 columns</p>\n",
       "</div>"
      ],
      "text/plain": [
       "        Id      SalePrice\n",
       "0     1461  126944.858672\n",
       "1     1462  157133.453485\n",
       "2     1463  180149.702494\n",
       "3     1464  180119.553545\n",
       "4     1465  188188.262191\n",
       "...    ...            ...\n",
       "1454  2915   97611.571509\n",
       "1455  2916   97705.381613\n",
       "1456  2917  157427.122023\n",
       "1457  2918  143536.267446\n",
       "1458  2919  232892.990249\n",
       "\n",
       "[1459 rows x 2 columns]"
      ]
     },
     "execution_count": 23,
     "metadata": {},
     "output_type": "execute_result"
    }
   ],
   "source": [
    "# create dataframe of the predicted values\n",
    "output = pd.DataFrame({'Id': test_data.Id,\n",
    "                       'SalePrice': preds_val})\n",
    "\n",
    "# send to csv (uncomment below line)\n",
    "#output.to_csv('submission_IntroToML.csv', index=False)\n",
    "\n",
    "output"
   ]
  },
  {
   "cell_type": "markdown",
   "id": "f3c16d16",
   "metadata": {},
   "source": [
    "When submitted, this achieved a score of $21554.755$, let's see if we can improve this in the Intermediate ML notebook."
   ]
  },
  {
   "cell_type": "code",
   "execution_count": null,
   "id": "b5218696",
   "metadata": {},
   "outputs": [],
   "source": []
  }
 ],
 "metadata": {
  "kernelspec": {
   "display_name": "Python 3 (ipykernel)",
   "language": "python",
   "name": "python3"
  },
  "language_info": {
   "codemirror_mode": {
    "name": "ipython",
    "version": 3
   },
   "file_extension": ".py",
   "mimetype": "text/x-python",
   "name": "python",
   "nbconvert_exporter": "python",
   "pygments_lexer": "ipython3",
   "version": "3.9.7"
  }
 },
 "nbformat": 4,
 "nbformat_minor": 5
}
